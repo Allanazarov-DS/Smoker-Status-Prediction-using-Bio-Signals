{
 "cells": [
  {
   "cell_type": "code",
   "execution_count": 22,
   "metadata": {},
   "outputs": [],
   "source": [
    "import pandas as pd\n",
    "import numpy as np\n",
    "import matplotlib.pyplot as plt\n",
    "from sklearn.metrics import make_scorer\n",
    "from sklearn.model_selection import learning_curve\n",
    "from sklearn.metrics import roc_auc_score\n",
    "from sklearn.preprocessing import StandardScaler, PolynomialFeatures\n",
    "from sklearn.model_selection import train_test_split, cross_val_score\n",
    "from sklearn.ensemble import StackingClassifier, RandomForestClassifier\n",
    "from sklearn.linear_model import LogisticRegression\n",
    "from sklearn.metrics import roc_curve, roc_auc_score\n",
    "from sklearn.pipeline import Pipeline\n",
    "import warnings\n",
    "warnings.filterwarnings('ignore')"
   ]
  },
  {
   "cell_type": "markdown",
   "metadata": {},
   "source": [
    "### Load data"
   ]
  },
  {
   "cell_type": "code",
   "execution_count": 23,
   "metadata": {},
   "outputs": [
    {
     "data": {
      "text/html": [
       "<div>\n",
       "<style scoped>\n",
       "    .dataframe tbody tr th:only-of-type {\n",
       "        vertical-align: middle;\n",
       "    }\n",
       "\n",
       "    .dataframe tbody tr th {\n",
       "        vertical-align: top;\n",
       "    }\n",
       "\n",
       "    .dataframe thead th {\n",
       "        text-align: right;\n",
       "    }\n",
       "</style>\n",
       "<table border=\"1\" class=\"dataframe\">\n",
       "  <thead>\n",
       "    <tr style=\"text-align: right;\">\n",
       "      <th></th>\n",
       "      <th>age</th>\n",
       "      <th>height(cm)</th>\n",
       "      <th>weight(kg)</th>\n",
       "      <th>waist(cm)</th>\n",
       "      <th>eyesight(left)</th>\n",
       "      <th>eyesight(right)</th>\n",
       "      <th>hearing(left)</th>\n",
       "      <th>hearing(right)</th>\n",
       "      <th>systolic</th>\n",
       "      <th>relaxation</th>\n",
       "      <th>...</th>\n",
       "      <th>HDL</th>\n",
       "      <th>LDL</th>\n",
       "      <th>hemoglobin</th>\n",
       "      <th>Urine protein</th>\n",
       "      <th>serum creatinine</th>\n",
       "      <th>AST</th>\n",
       "      <th>ALT</th>\n",
       "      <th>Gtp</th>\n",
       "      <th>dental caries</th>\n",
       "      <th>smoking</th>\n",
       "    </tr>\n",
       "  </thead>\n",
       "  <tbody>\n",
       "    <tr>\n",
       "      <th>0</th>\n",
       "      <td>55.0</td>\n",
       "      <td>170.0</td>\n",
       "      <td>80.0</td>\n",
       "      <td>92.0</td>\n",
       "      <td>1.2</td>\n",
       "      <td>0.8</td>\n",
       "      <td>1.0</td>\n",
       "      <td>1.0</td>\n",
       "      <td>129.0</td>\n",
       "      <td>74.0</td>\n",
       "      <td>...</td>\n",
       "      <td>49.0</td>\n",
       "      <td>114.0</td>\n",
       "      <td>15.4</td>\n",
       "      <td>1.0</td>\n",
       "      <td>0.9</td>\n",
       "      <td>20.0</td>\n",
       "      <td>23.0</td>\n",
       "      <td>13.0</td>\n",
       "      <td>0.0</td>\n",
       "      <td>0.0</td>\n",
       "    </tr>\n",
       "    <tr>\n",
       "      <th>1</th>\n",
       "      <td>30.0</td>\n",
       "      <td>170.0</td>\n",
       "      <td>80.0</td>\n",
       "      <td>94.0</td>\n",
       "      <td>1.5</td>\n",
       "      <td>1.5</td>\n",
       "      <td>1.0</td>\n",
       "      <td>1.0</td>\n",
       "      <td>128.0</td>\n",
       "      <td>84.0</td>\n",
       "      <td>...</td>\n",
       "      <td>51.0</td>\n",
       "      <td>111.0</td>\n",
       "      <td>16.2</td>\n",
       "      <td>1.0</td>\n",
       "      <td>0.9</td>\n",
       "      <td>30.0</td>\n",
       "      <td>39.0</td>\n",
       "      <td>92.0</td>\n",
       "      <td>0.0</td>\n",
       "      <td>1.0</td>\n",
       "    </tr>\n",
       "    <tr>\n",
       "      <th>2</th>\n",
       "      <td>45.0</td>\n",
       "      <td>170.0</td>\n",
       "      <td>75.0</td>\n",
       "      <td>84.0</td>\n",
       "      <td>1.0</td>\n",
       "      <td>1.0</td>\n",
       "      <td>1.0</td>\n",
       "      <td>1.0</td>\n",
       "      <td>124.0</td>\n",
       "      <td>80.0</td>\n",
       "      <td>...</td>\n",
       "      <td>52.0</td>\n",
       "      <td>112.0</td>\n",
       "      <td>14.6</td>\n",
       "      <td>2.0</td>\n",
       "      <td>0.9</td>\n",
       "      <td>20.0</td>\n",
       "      <td>20.0</td>\n",
       "      <td>50.0</td>\n",
       "      <td>0.0</td>\n",
       "      <td>1.0</td>\n",
       "    </tr>\n",
       "    <tr>\n",
       "      <th>3</th>\n",
       "      <td>55.0</td>\n",
       "      <td>150.0</td>\n",
       "      <td>55.0</td>\n",
       "      <td>85.0</td>\n",
       "      <td>0.9</td>\n",
       "      <td>0.5</td>\n",
       "      <td>1.0</td>\n",
       "      <td>1.0</td>\n",
       "      <td>123.0</td>\n",
       "      <td>79.0</td>\n",
       "      <td>...</td>\n",
       "      <td>61.0</td>\n",
       "      <td>119.0</td>\n",
       "      <td>13.4</td>\n",
       "      <td>1.0</td>\n",
       "      <td>0.8</td>\n",
       "      <td>25.0</td>\n",
       "      <td>20.0</td>\n",
       "      <td>18.0</td>\n",
       "      <td>0.0</td>\n",
       "      <td>0.0</td>\n",
       "    </tr>\n",
       "    <tr>\n",
       "      <th>4</th>\n",
       "      <td>45.0</td>\n",
       "      <td>160.0</td>\n",
       "      <td>55.0</td>\n",
       "      <td>72.0</td>\n",
       "      <td>0.5</td>\n",
       "      <td>0.6</td>\n",
       "      <td>1.0</td>\n",
       "      <td>1.0</td>\n",
       "      <td>117.0</td>\n",
       "      <td>76.0</td>\n",
       "      <td>...</td>\n",
       "      <td>61.0</td>\n",
       "      <td>120.0</td>\n",
       "      <td>13.9</td>\n",
       "      <td>1.0</td>\n",
       "      <td>0.7</td>\n",
       "      <td>20.0</td>\n",
       "      <td>26.0</td>\n",
       "      <td>10.0</td>\n",
       "      <td>0.0</td>\n",
       "      <td>0.0</td>\n",
       "    </tr>\n",
       "  </tbody>\n",
       "</table>\n",
       "<p>5 rows × 23 columns</p>\n",
       "</div>"
      ],
      "text/plain": [
       "    age  height(cm)  weight(kg)  waist(cm)  eyesight(left)  eyesight(right)  \\\n",
       "0  55.0       170.0        80.0       92.0             1.2              0.8   \n",
       "1  30.0       170.0        80.0       94.0             1.5              1.5   \n",
       "2  45.0       170.0        75.0       84.0             1.0              1.0   \n",
       "3  55.0       150.0        55.0       85.0             0.9              0.5   \n",
       "4  45.0       160.0        55.0       72.0             0.5              0.6   \n",
       "\n",
       "   hearing(left)  hearing(right)  systolic  relaxation  ...   HDL    LDL  \\\n",
       "0            1.0             1.0     129.0        74.0  ...  49.0  114.0   \n",
       "1            1.0             1.0     128.0        84.0  ...  51.0  111.0   \n",
       "2            1.0             1.0     124.0        80.0  ...  52.0  112.0   \n",
       "3            1.0             1.0     123.0        79.0  ...  61.0  119.0   \n",
       "4            1.0             1.0     117.0        76.0  ...  61.0  120.0   \n",
       "\n",
       "   hemoglobin  Urine protein  serum creatinine   AST   ALT   Gtp  \\\n",
       "0        15.4            1.0               0.9  20.0  23.0  13.0   \n",
       "1        16.2            1.0               0.9  30.0  39.0  92.0   \n",
       "2        14.6            2.0               0.9  20.0  20.0  50.0   \n",
       "3        13.4            1.0               0.8  25.0  20.0  18.0   \n",
       "4        13.9            1.0               0.7  20.0  26.0  10.0   \n",
       "\n",
       "   dental caries  smoking  \n",
       "0            0.0      0.0  \n",
       "1            0.0      1.0  \n",
       "2            0.0      1.0  \n",
       "3            0.0      0.0  \n",
       "4            0.0      0.0  \n",
       "\n",
       "[5 rows x 23 columns]"
      ]
     },
     "execution_count": 23,
     "metadata": {},
     "output_type": "execute_result"
    }
   ],
   "source": [
    "plt.style.use(\"default\")\n",
    "train = pd.read_csv('train.csv').drop(['id'], axis = 1)\n",
    "test = pd.read_csv('test.csv').drop(['id'], axis = 1)\n",
    "train.head()"
   ]
  },
  {
   "cell_type": "markdown",
   "metadata": {},
   "source": [
    "<img src=\"https://www.sunderlandecho.com/webimg/b25lY21zOjdhNGU1YmQxLWZjYmUtNDE1Zi05ZTVjLTk1OTUzZjA0NGJiZDo5OTJjOTRmZC1lYjI3LTQ0MWQtYjU1YS01NDllNDEwNWI2NDI=.jpg?crop=3:2,smart&trim=&width=990&quality=65&enable=upscale\" alt=\"Description of the image\" width=\"700\"/>\n"
   ]
  },
  {
   "cell_type": "code",
   "execution_count": 24,
   "metadata": {},
   "outputs": [
    {
     "data": {
      "text/plain": [
       "Index(['age', 'height(cm)', 'weight(kg)', 'waist(cm)', 'eyesight(left)',\n",
       "       'eyesight(right)', 'hearing(left)', 'hearing(right)', 'systolic',\n",
       "       'relaxation', 'fasting blood sugar', 'Cholesterol', 'triglyceride',\n",
       "       'HDL', 'LDL', 'hemoglobin', 'Urine protein', 'serum creatinine', 'AST',\n",
       "       'ALT', 'Gtp', 'dental caries', 'smoking'],\n",
       "      dtype='object')"
      ]
     },
     "execution_count": 24,
     "metadata": {},
     "output_type": "execute_result"
    }
   ],
   "source": [
    "train.columns"
   ]
  },
  {
   "cell_type": "markdown",
   "metadata": {},
   "source": [
    "### Features with description"
   ]
  },
  {
   "cell_type": "markdown",
   "metadata": {},
   "source": [
    "| Feature                | Description                                                                                 |\n",
    "|------------------------|---------------------------------------------------------------------------------------------|\n",
    "| **age**                | Age of the individual (years)                                                               |\n",
    "| **height(cm)**         | Height of the individual in centimeters                                                     |\n",
    "| **weight(kg)**         | Weight of the individual in kilograms                                                       |\n",
    "| **waist(cm)**          | Waist circumference of the individual in centimeters                                        |\n",
    "| **eyesight(left)**     | Vision quality of the left eye                                                              |\n",
    "| **eyesight(right)**    | Vision quality of the right eye                                                             |\n",
    "| **hearing(left)**      | Hearing ability of the left ear                                                             |\n",
    "| **hearing(right)**     | Hearing ability of the right ear                                                            |\n",
    "| **systolic**           | Systolic blood pressure measurement (mmHg)                                                  |\n",
    "| **relaxation**         | Diastolic blood pressure measurement (mmHg)                                                 |\n",
    "| **fasting blood sugar**| Fasting blood sugar level (mg/dL)                                                           |\n",
    "| **Cholesterol**        | Total cholesterol level in the blood (mg/dL)                                                |\n",
    "| **triglyceride**       | Triglyceride level in the blood (mg/dL)                                                     |\n",
    "| **HDL**                | High-density lipoprotein cholesterol level (mg/dL)                                          |\n",
    "| **LDL**                | Low-density lipoprotein cholesterol level (mg/dL)                                           |\n",
    "| **hemoglobin**         | Hemoglobin level in the blood (g/dL)                                                        |\n",
    "| **Urine protein**      | Presence of protein in urine, indicating possible kidney issues                             |\n",
    "| **serum creatinine**   | Creatinine level in serum, used to assess kidney function (mg/dL)                           |\n",
    "| **AST**                | Aspartate aminotransferase enzyme level, associated with liver health                       |\n",
    "| **ALT**                | Alanine aminotransferase enzyme level, associated with liver health                         |\n",
    "| **Gtp**                | Gamma-glutamyl transferase level, another liver enzyme (mg/dL)                              |\n",
    "| **dental caries**      | Indicator of dental caries (cavities)                                                       |\n",
    "| **smoking**            | Target variable; indicates if the individual smokes (1 for smoking, 0 for non-smoking)      |\n",
    "| **BMI**                | Body Mass Index, calculated as weight (kg) / (height (m)^2)                                 |\n",
    "| **HW_Ratio**           | Ratio of height to weight, an alternative metric related to body composition                |\n",
    "| **HA_Ratio**           | Ratio of height to age, capturing growth patterns                                          |\n",
    "| **hemoglobin_height**  | Combined feature of hemoglobin level adjusted for height                                    |\n",
    "| **hemoglobin / Gtp**   | Ratio of hemoglobin to Gtp, possibly relevant for liver health assessments                  |\n",
    "| **cholesterol_ratio**  | Ratio of LDL to HDL cholesterol, an indicator of heart health                               |\n",
    "| **blood_pressure_category** | Categorical feature assigning blood pressure ranges (e.g., normal, elevated, high)     |\n",
    "| **waist_height_ratio** | Ratio of waist circumference to height, associated with body fat distribution               |\n",
    "| **Liver_Enzyme_Ratio** | Ratio of AST to ALT levels, used in liver function evaluation                               |\n"
   ]
  },
  {
   "cell_type": "markdown",
   "metadata": {},
   "source": [
    "### Statistics of train data"
   ]
  },
  {
   "cell_type": "code",
   "execution_count": 25,
   "metadata": {},
   "outputs": [
    {
     "data": {
      "text/html": [
       "<div>\n",
       "<style scoped>\n",
       "    .dataframe tbody tr th:only-of-type {\n",
       "        vertical-align: middle;\n",
       "    }\n",
       "\n",
       "    .dataframe tbody tr th {\n",
       "        vertical-align: top;\n",
       "    }\n",
       "\n",
       "    .dataframe thead th {\n",
       "        text-align: right;\n",
       "    }\n",
       "</style>\n",
       "<table border=\"1\" class=\"dataframe\">\n",
       "  <thead>\n",
       "    <tr style=\"text-align: right;\">\n",
       "      <th></th>\n",
       "      <th>count</th>\n",
       "      <th>mean</th>\n",
       "      <th>std</th>\n",
       "      <th>min</th>\n",
       "      <th>25%</th>\n",
       "      <th>50%</th>\n",
       "      <th>75%</th>\n",
       "      <th>max</th>\n",
       "    </tr>\n",
       "  </thead>\n",
       "  <tbody>\n",
       "    <tr>\n",
       "      <th>age</th>\n",
       "      <td>15000.0</td>\n",
       "      <td>42.659667</td>\n",
       "      <td>10.514524</td>\n",
       "      <td>20.0</td>\n",
       "      <td>40.0</td>\n",
       "      <td>40.0</td>\n",
       "      <td>50.0</td>\n",
       "      <td>85.0</td>\n",
       "    </tr>\n",
       "    <tr>\n",
       "      <th>height(cm)</th>\n",
       "      <td>15000.0</td>\n",
       "      <td>164.669333</td>\n",
       "      <td>8.524211</td>\n",
       "      <td>140.0</td>\n",
       "      <td>160.0</td>\n",
       "      <td>165.0</td>\n",
       "      <td>170.0</td>\n",
       "      <td>190.0</td>\n",
       "    </tr>\n",
       "    <tr>\n",
       "      <th>weight(kg)</th>\n",
       "      <td>15000.0</td>\n",
       "      <td>64.235333</td>\n",
       "      <td>10.999092</td>\n",
       "      <td>40.0</td>\n",
       "      <td>55.0</td>\n",
       "      <td>65.0</td>\n",
       "      <td>70.0</td>\n",
       "      <td>120.0</td>\n",
       "    </tr>\n",
       "    <tr>\n",
       "      <th>waist(cm)</th>\n",
       "      <td>15000.0</td>\n",
       "      <td>80.251100</td>\n",
       "      <td>7.927326</td>\n",
       "      <td>1.0</td>\n",
       "      <td>75.0</td>\n",
       "      <td>80.0</td>\n",
       "      <td>86.0</td>\n",
       "      <td>117.0</td>\n",
       "    </tr>\n",
       "    <tr>\n",
       "      <th>eyesight(left)</th>\n",
       "      <td>15000.0</td>\n",
       "      <td>1.034373</td>\n",
       "      <td>0.304866</td>\n",
       "      <td>0.1</td>\n",
       "      <td>0.9</td>\n",
       "      <td>1.0</td>\n",
       "      <td>1.2</td>\n",
       "      <td>9.9</td>\n",
       "    </tr>\n",
       "    <tr>\n",
       "      <th>eyesight(right)</th>\n",
       "      <td>15000.0</td>\n",
       "      <td>1.029453</td>\n",
       "      <td>0.302373</td>\n",
       "      <td>0.1</td>\n",
       "      <td>0.8</td>\n",
       "      <td>1.0</td>\n",
       "      <td>1.2</td>\n",
       "      <td>9.9</td>\n",
       "    </tr>\n",
       "    <tr>\n",
       "      <th>hearing(left)</th>\n",
       "      <td>15000.0</td>\n",
       "      <td>1.005600</td>\n",
       "      <td>0.074626</td>\n",
       "      <td>1.0</td>\n",
       "      <td>1.0</td>\n",
       "      <td>1.0</td>\n",
       "      <td>1.0</td>\n",
       "      <td>2.0</td>\n",
       "    </tr>\n",
       "    <tr>\n",
       "      <th>hearing(right)</th>\n",
       "      <td>15000.0</td>\n",
       "      <td>1.006000</td>\n",
       "      <td>0.077230</td>\n",
       "      <td>1.0</td>\n",
       "      <td>1.0</td>\n",
       "      <td>1.0</td>\n",
       "      <td>1.0</td>\n",
       "      <td>2.0</td>\n",
       "    </tr>\n",
       "    <tr>\n",
       "      <th>systolic</th>\n",
       "      <td>15000.0</td>\n",
       "      <td>119.219133</td>\n",
       "      <td>11.151900</td>\n",
       "      <td>84.0</td>\n",
       "      <td>110.0</td>\n",
       "      <td>119.0</td>\n",
       "      <td>128.0</td>\n",
       "      <td>199.0</td>\n",
       "    </tr>\n",
       "    <tr>\n",
       "      <th>relaxation</th>\n",
       "      <td>15000.0</td>\n",
       "      <td>74.963667</td>\n",
       "      <td>7.956559</td>\n",
       "      <td>42.0</td>\n",
       "      <td>70.0</td>\n",
       "      <td>75.0</td>\n",
       "      <td>80.0</td>\n",
       "      <td>122.0</td>\n",
       "    </tr>\n",
       "    <tr>\n",
       "      <th>fasting blood sugar</th>\n",
       "      <td>15000.0</td>\n",
       "      <td>95.032733</td>\n",
       "      <td>10.663504</td>\n",
       "      <td>51.0</td>\n",
       "      <td>89.0</td>\n",
       "      <td>94.0</td>\n",
       "      <td>100.0</td>\n",
       "      <td>369.0</td>\n",
       "    </tr>\n",
       "    <tr>\n",
       "      <th>Cholesterol</th>\n",
       "      <td>15000.0</td>\n",
       "      <td>191.225800</td>\n",
       "      <td>20.568081</td>\n",
       "      <td>108.0</td>\n",
       "      <td>177.0</td>\n",
       "      <td>191.0</td>\n",
       "      <td>205.0</td>\n",
       "      <td>295.0</td>\n",
       "    </tr>\n",
       "    <tr>\n",
       "      <th>triglyceride</th>\n",
       "      <td>15000.0</td>\n",
       "      <td>101.861400</td>\n",
       "      <td>47.553005</td>\n",
       "      <td>22.0</td>\n",
       "      <td>70.0</td>\n",
       "      <td>90.0</td>\n",
       "      <td>120.0</td>\n",
       "      <td>399.0</td>\n",
       "    </tr>\n",
       "    <tr>\n",
       "      <th>HDL</th>\n",
       "      <td>15000.0</td>\n",
       "      <td>57.374733</td>\n",
       "      <td>11.436670</td>\n",
       "      <td>28.0</td>\n",
       "      <td>49.0</td>\n",
       "      <td>56.0</td>\n",
       "      <td>65.0</td>\n",
       "      <td>107.0</td>\n",
       "    </tr>\n",
       "    <tr>\n",
       "      <th>LDL</th>\n",
       "      <td>15000.0</td>\n",
       "      <td>113.391200</td>\n",
       "      <td>18.574279</td>\n",
       "      <td>47.0</td>\n",
       "      <td>100.0</td>\n",
       "      <td>113.0</td>\n",
       "      <td>126.0</td>\n",
       "      <td>202.0</td>\n",
       "    </tr>\n",
       "    <tr>\n",
       "      <th>hemoglobin</th>\n",
       "      <td>15000.0</td>\n",
       "      <td>14.505213</td>\n",
       "      <td>1.398364</td>\n",
       "      <td>7.3</td>\n",
       "      <td>13.5</td>\n",
       "      <td>14.7</td>\n",
       "      <td>15.6</td>\n",
       "      <td>18.8</td>\n",
       "    </tr>\n",
       "    <tr>\n",
       "      <th>Urine protein</th>\n",
       "      <td>15000.0</td>\n",
       "      <td>1.016067</td>\n",
       "      <td>0.160656</td>\n",
       "      <td>1.0</td>\n",
       "      <td>1.0</td>\n",
       "      <td>1.0</td>\n",
       "      <td>1.0</td>\n",
       "      <td>5.0</td>\n",
       "    </tr>\n",
       "    <tr>\n",
       "      <th>serum creatinine</th>\n",
       "      <td>15000.0</td>\n",
       "      <td>0.866873</td>\n",
       "      <td>0.165501</td>\n",
       "      <td>0.1</td>\n",
       "      <td>0.8</td>\n",
       "      <td>0.9</td>\n",
       "      <td>1.0</td>\n",
       "      <td>1.5</td>\n",
       "    </tr>\n",
       "    <tr>\n",
       "      <th>AST</th>\n",
       "      <td>15000.0</td>\n",
       "      <td>22.236600</td>\n",
       "      <td>5.640184</td>\n",
       "      <td>10.0</td>\n",
       "      <td>18.0</td>\n",
       "      <td>21.0</td>\n",
       "      <td>25.0</td>\n",
       "      <td>87.0</td>\n",
       "    </tr>\n",
       "    <tr>\n",
       "      <th>ALT</th>\n",
       "      <td>15000.0</td>\n",
       "      <td>20.859400</td>\n",
       "      <td>10.310916</td>\n",
       "      <td>5.0</td>\n",
       "      <td>14.0</td>\n",
       "      <td>18.0</td>\n",
       "      <td>24.0</td>\n",
       "      <td>166.0</td>\n",
       "    </tr>\n",
       "    <tr>\n",
       "      <th>Gtp</th>\n",
       "      <td>15000.0</td>\n",
       "      <td>26.289933</td>\n",
       "      <td>18.685708</td>\n",
       "      <td>6.0</td>\n",
       "      <td>15.0</td>\n",
       "      <td>21.0</td>\n",
       "      <td>31.0</td>\n",
       "      <td>439.0</td>\n",
       "    </tr>\n",
       "    <tr>\n",
       "      <th>dental caries</th>\n",
       "      <td>15000.0</td>\n",
       "      <td>0.145733</td>\n",
       "      <td>0.352850</td>\n",
       "      <td>0.0</td>\n",
       "      <td>0.0</td>\n",
       "      <td>0.0</td>\n",
       "      <td>0.0</td>\n",
       "      <td>1.0</td>\n",
       "    </tr>\n",
       "    <tr>\n",
       "      <th>smoking</th>\n",
       "      <td>15000.0</td>\n",
       "      <td>0.369133</td>\n",
       "      <td>0.482586</td>\n",
       "      <td>0.0</td>\n",
       "      <td>0.0</td>\n",
       "      <td>0.0</td>\n",
       "      <td>1.0</td>\n",
       "      <td>1.0</td>\n",
       "    </tr>\n",
       "  </tbody>\n",
       "</table>\n",
       "</div>"
      ],
      "text/plain": [
       "                       count        mean        std    min    25%    50%  \\\n",
       "age                  15000.0   42.659667  10.514524   20.0   40.0   40.0   \n",
       "height(cm)           15000.0  164.669333   8.524211  140.0  160.0  165.0   \n",
       "weight(kg)           15000.0   64.235333  10.999092   40.0   55.0   65.0   \n",
       "waist(cm)            15000.0   80.251100   7.927326    1.0   75.0   80.0   \n",
       "eyesight(left)       15000.0    1.034373   0.304866    0.1    0.9    1.0   \n",
       "eyesight(right)      15000.0    1.029453   0.302373    0.1    0.8    1.0   \n",
       "hearing(left)        15000.0    1.005600   0.074626    1.0    1.0    1.0   \n",
       "hearing(right)       15000.0    1.006000   0.077230    1.0    1.0    1.0   \n",
       "systolic             15000.0  119.219133  11.151900   84.0  110.0  119.0   \n",
       "relaxation           15000.0   74.963667   7.956559   42.0   70.0   75.0   \n",
       "fasting blood sugar  15000.0   95.032733  10.663504   51.0   89.0   94.0   \n",
       "Cholesterol          15000.0  191.225800  20.568081  108.0  177.0  191.0   \n",
       "triglyceride         15000.0  101.861400  47.553005   22.0   70.0   90.0   \n",
       "HDL                  15000.0   57.374733  11.436670   28.0   49.0   56.0   \n",
       "LDL                  15000.0  113.391200  18.574279   47.0  100.0  113.0   \n",
       "hemoglobin           15000.0   14.505213   1.398364    7.3   13.5   14.7   \n",
       "Urine protein        15000.0    1.016067   0.160656    1.0    1.0    1.0   \n",
       "serum creatinine     15000.0    0.866873   0.165501    0.1    0.8    0.9   \n",
       "AST                  15000.0   22.236600   5.640184   10.0   18.0   21.0   \n",
       "ALT                  15000.0   20.859400  10.310916    5.0   14.0   18.0   \n",
       "Gtp                  15000.0   26.289933  18.685708    6.0   15.0   21.0   \n",
       "dental caries        15000.0    0.145733   0.352850    0.0    0.0    0.0   \n",
       "smoking              15000.0    0.369133   0.482586    0.0    0.0    0.0   \n",
       "\n",
       "                       75%    max  \n",
       "age                   50.0   85.0  \n",
       "height(cm)           170.0  190.0  \n",
       "weight(kg)            70.0  120.0  \n",
       "waist(cm)             86.0  117.0  \n",
       "eyesight(left)         1.2    9.9  \n",
       "eyesight(right)        1.2    9.9  \n",
       "hearing(left)          1.0    2.0  \n",
       "hearing(right)         1.0    2.0  \n",
       "systolic             128.0  199.0  \n",
       "relaxation            80.0  122.0  \n",
       "fasting blood sugar  100.0  369.0  \n",
       "Cholesterol          205.0  295.0  \n",
       "triglyceride         120.0  399.0  \n",
       "HDL                   65.0  107.0  \n",
       "LDL                  126.0  202.0  \n",
       "hemoglobin            15.6   18.8  \n",
       "Urine protein          1.0    5.0  \n",
       "serum creatinine       1.0    1.5  \n",
       "AST                   25.0   87.0  \n",
       "ALT                   24.0  166.0  \n",
       "Gtp                   31.0  439.0  \n",
       "dental caries          0.0    1.0  \n",
       "smoking                1.0    1.0  "
      ]
     },
     "execution_count": 25,
     "metadata": {},
     "output_type": "execute_result"
    }
   ],
   "source": [
    "train.describe().T"
   ]
  },
  {
   "cell_type": "code",
   "execution_count": 26,
   "metadata": {},
   "outputs": [
    {
     "data": {
      "image/png": "[encoded data removed]",
      "text/plain": [
       "<Figure size 1200x800 with 4 Axes>"
      ]
     },
     "metadata": {},
     "output_type": "display_data"
    }
   ],
   "source": [
    "fig, axes = plt.subplots(2, 2, figsize=(12, 8))\n",
    "\n",
    "train['smoking'].value_counts().plot.pie(\n",
    "    ax=axes[0, 0], \n",
    "    explode=[0, 0.1], \n",
    "    autopct='%1.1f%%', \n",
    "    shadow=True\n",
    ")\n",
    "axes[0, 0].set_title('Smoking Distribution')\n",
    "\n",
    "axes[0, 1].boxplot(train[\"age\"])\n",
    "axes[0, 1].set_title('Age Distribution')\n",
    "\n",
    "axes[1, 0].boxplot(train[\"height(cm)\"])\n",
    "axes[1, 0].set_title('Height Distribution')\n",
    "\n",
    "axes[1, 1].boxplot(train[\"weight(kg)\"])\n",
    "axes[1, 1].set_title('Weight Distribution')\n",
    "\n",
    "plt.tight_layout()\n",
    "plt.show()\n"
   ]
  },
  {
   "cell_type": "code",
   "execution_count": 27,
   "metadata": {},
   "outputs": [
    {
     "name": "stdout",
     "output_type": "stream",
     "text": [
      "<class 'pandas.core.frame.DataFrame'>\n",
      "RangeIndex: 15000 entries, 0 to 14999\n",
      "Data columns (total 23 columns):\n",
      " #   Column               Non-Null Count  Dtype  \n",
      "---  ------               --------------  -----  \n",
      " 0   age                  15000 non-null  float64\n",
      " 1   height(cm)           15000 non-null  float64\n",
      " 2   weight(kg)           15000 non-null  float64\n",
      " 3   waist(cm)            15000 non-null  float64\n",
      " 4   eyesight(left)       15000 non-null  float64\n",
      " 5   eyesight(right)      15000 non-null  float64\n",
      " 6   hearing(left)        15000 non-null  float64\n",
      " 7   hearing(right)       15000 non-null  float64\n",
      " 8   systolic             15000 non-null  float64\n",
      " 9   relaxation           15000 non-null  float64\n",
      " 10  fasting blood sugar  15000 non-null  float64\n",
      " 11  Cholesterol          15000 non-null  float64\n",
      " 12  triglyceride         15000 non-null  float64\n",
      " 13  HDL                  15000 non-null  float64\n",
      " 14  LDL                  15000 non-null  float64\n",
      " 15  hemoglobin           15000 non-null  float64\n",
      " 16  Urine protein        15000 non-null  float64\n",
      " 17  serum creatinine     15000 non-null  float64\n",
      " 18  AST                  15000 non-null  float64\n",
      " 19  ALT                  15000 non-null  float64\n",
      " 20  Gtp                  15000 non-null  float64\n",
      " 21  dental caries        15000 non-null  float64\n",
      " 22  smoking              15000 non-null  float64\n",
      "dtypes: float64(23)\n",
      "memory usage: 2.6 MB\n"
     ]
    }
   ],
   "source": [
    "train.info(memory_usage = 'deep')"
   ]
  },
  {
   "cell_type": "markdown",
   "metadata": {},
   "source": [
    "### WoE"
   ]
  },
  {
   "cell_type": "code",
   "execution_count": 28,
   "metadata": {},
   "outputs": [],
   "source": [
    "# numeric_columns = ['age', 'cholesterol_ratio']\n",
    "# woe_mappings = {}\n",
    "\n",
    "# def calculate_woe_train(data, column, target, bins=5):\n",
    "#     data[f'{column}_bin'] = pd.cut(data[column], bins=bins)\n",
    "    \n",
    "#     # Calculate WoE table\n",
    "#     woe_table = data.groupby(f'{column}_bin').apply(\n",
    "#         lambda x: pd.Series({\n",
    "#             'non_smokers': (x[target] == 0).sum(),\n",
    "#             'smokers': (x[target] == 1).sum()\n",
    "#         })\n",
    "#     ).reset_index()\n",
    "\n",
    "#     # Avoid division by zero\n",
    "#     woe_table['non_smokers'] = woe_table['non_smokers'].replace(0, 0.5)\n",
    "#     woe_table['smokers'] = woe_table['smokers'].replace(0, 0.5)\n",
    "\n",
    "#     total_non_smokers = (data[target] == 0).sum()\n",
    "#     total_smokers = (data[target] == 1).sum()\n",
    "\n",
    "#     woe_table['WoE'] = np.log((woe_table['smokers'] / total_smokers) / (woe_table['non_smokers'] / total_non_smokers))\n",
    "    \n",
    "#     # Store WoE mapping\n",
    "#     woe_dict = dict(zip(woe_table[f'{column}_bin'], woe_table['WoE']))\n",
    "#     woe_mappings[column] = woe_dict\n",
    "    \n",
    "#     # Apply to training data\n",
    "#     data[f'{column}_woe'] = data[f'{column}_bin'].map(woe_dict)\n",
    "#     data.drop(columns=[f'{column}_bin'], inplace=True)\n",
    "    \n",
    "#     return data\n",
    "\n",
    "# # Apply WoE calculation on `train`\n",
    "# for col in numeric_columns:\n",
    "#     train = calculate_woe_train(train, col, 'smoking', bins=5)\n"
   ]
  },
  {
   "cell_type": "markdown",
   "metadata": {},
   "source": [
    "### Feature engineering"
   ]
  },
  {
   "cell_type": "code",
   "execution_count": 29,
   "metadata": {},
   "outputs": [
    {
     "data": {
      "text/html": [
       "<div>\n",
       "<style scoped>\n",
       "    .dataframe tbody tr th:only-of-type {\n",
       "        vertical-align: middle;\n",
       "    }\n",
       "\n",
       "    .dataframe tbody tr th {\n",
       "        vertical-align: top;\n",
       "    }\n",
       "\n",
       "    .dataframe thead th {\n",
       "        text-align: right;\n",
       "    }\n",
       "</style>\n",
       "<table border=\"1\" class=\"dataframe\">\n",
       "  <thead>\n",
       "    <tr style=\"text-align: right;\">\n",
       "      <th></th>\n",
       "      <th>age</th>\n",
       "      <th>height(cm)</th>\n",
       "      <th>weight(kg)</th>\n",
       "      <th>waist(cm)</th>\n",
       "      <th>eyesight(left)</th>\n",
       "      <th>eyesight(right)</th>\n",
       "      <th>hearing(left)</th>\n",
       "      <th>hearing(right)</th>\n",
       "      <th>systolic</th>\n",
       "      <th>relaxation</th>\n",
       "      <th>...</th>\n",
       "      <th>smoking</th>\n",
       "      <th>BMI</th>\n",
       "      <th>HW_Ratio</th>\n",
       "      <th>HA_Ratio</th>\n",
       "      <th>hemoglobin_height</th>\n",
       "      <th>hemoglobin / Gtp</th>\n",
       "      <th>cholesterol_ratio</th>\n",
       "      <th>blood_pressure_category</th>\n",
       "      <th>waist_height_ratio</th>\n",
       "      <th>Liver_Enzyme_Ratio</th>\n",
       "    </tr>\n",
       "  </thead>\n",
       "  <tbody>\n",
       "    <tr>\n",
       "      <th>0</th>\n",
       "      <td>55.0</td>\n",
       "      <td>170.0</td>\n",
       "      <td>80.0</td>\n",
       "      <td>92.0</td>\n",
       "      <td>1.2</td>\n",
       "      <td>0.8</td>\n",
       "      <td>1.0</td>\n",
       "      <td>1.0</td>\n",
       "      <td>129.0</td>\n",
       "      <td>74.0</td>\n",
       "      <td>...</td>\n",
       "      <td>0.0</td>\n",
       "      <td>27.681661</td>\n",
       "      <td>1.847826</td>\n",
       "      <td>3.090909</td>\n",
       "      <td>2618.0</td>\n",
       "      <td>1.184615</td>\n",
       "      <td>0.429825</td>\n",
       "      <td>1</td>\n",
       "      <td>0.541176</td>\n",
       "      <td>0.869565</td>\n",
       "    </tr>\n",
       "    <tr>\n",
       "      <th>1</th>\n",
       "      <td>30.0</td>\n",
       "      <td>170.0</td>\n",
       "      <td>80.0</td>\n",
       "      <td>94.0</td>\n",
       "      <td>1.5</td>\n",
       "      <td>1.5</td>\n",
       "      <td>1.0</td>\n",
       "      <td>1.0</td>\n",
       "      <td>128.0</td>\n",
       "      <td>84.0</td>\n",
       "      <td>...</td>\n",
       "      <td>1.0</td>\n",
       "      <td>27.681661</td>\n",
       "      <td>1.808511</td>\n",
       "      <td>5.666667</td>\n",
       "      <td>2754.0</td>\n",
       "      <td>0.176087</td>\n",
       "      <td>0.459459</td>\n",
       "      <td>1</td>\n",
       "      <td>0.552941</td>\n",
       "      <td>0.769231</td>\n",
       "    </tr>\n",
       "    <tr>\n",
       "      <th>2</th>\n",
       "      <td>45.0</td>\n",
       "      <td>170.0</td>\n",
       "      <td>75.0</td>\n",
       "      <td>84.0</td>\n",
       "      <td>1.0</td>\n",
       "      <td>1.0</td>\n",
       "      <td>1.0</td>\n",
       "      <td>1.0</td>\n",
       "      <td>124.0</td>\n",
       "      <td>80.0</td>\n",
       "      <td>...</td>\n",
       "      <td>1.0</td>\n",
       "      <td>25.951557</td>\n",
       "      <td>2.023810</td>\n",
       "      <td>3.777778</td>\n",
       "      <td>2482.0</td>\n",
       "      <td>0.292000</td>\n",
       "      <td>0.464286</td>\n",
       "      <td>1</td>\n",
       "      <td>0.494118</td>\n",
       "      <td>1.000000</td>\n",
       "    </tr>\n",
       "    <tr>\n",
       "      <th>3</th>\n",
       "      <td>55.0</td>\n",
       "      <td>150.0</td>\n",
       "      <td>55.0</td>\n",
       "      <td>85.0</td>\n",
       "      <td>0.9</td>\n",
       "      <td>0.5</td>\n",
       "      <td>1.0</td>\n",
       "      <td>1.0</td>\n",
       "      <td>123.0</td>\n",
       "      <td>79.0</td>\n",
       "      <td>...</td>\n",
       "      <td>0.0</td>\n",
       "      <td>24.444444</td>\n",
       "      <td>1.764706</td>\n",
       "      <td>2.727273</td>\n",
       "      <td>2010.0</td>\n",
       "      <td>0.744444</td>\n",
       "      <td>0.512605</td>\n",
       "      <td>1</td>\n",
       "      <td>0.566667</td>\n",
       "      <td>1.250000</td>\n",
       "    </tr>\n",
       "    <tr>\n",
       "      <th>4</th>\n",
       "      <td>45.0</td>\n",
       "      <td>160.0</td>\n",
       "      <td>55.0</td>\n",
       "      <td>72.0</td>\n",
       "      <td>0.5</td>\n",
       "      <td>0.6</td>\n",
       "      <td>1.0</td>\n",
       "      <td>1.0</td>\n",
       "      <td>117.0</td>\n",
       "      <td>76.0</td>\n",
       "      <td>...</td>\n",
       "      <td>0.0</td>\n",
       "      <td>21.484375</td>\n",
       "      <td>2.222222</td>\n",
       "      <td>3.555556</td>\n",
       "      <td>2224.0</td>\n",
       "      <td>1.390000</td>\n",
       "      <td>0.508333</td>\n",
       "      <td>0</td>\n",
       "      <td>0.450000</td>\n",
       "      <td>0.769231</td>\n",
       "    </tr>\n",
       "  </tbody>\n",
       "</table>\n",
       "<p>5 rows × 32 columns</p>\n",
       "</div>"
      ],
      "text/plain": [
       "    age  height(cm)  weight(kg)  waist(cm)  eyesight(left)  eyesight(right)  \\\n",
       "0  55.0       170.0        80.0       92.0             1.2              0.8   \n",
       "1  30.0       170.0        80.0       94.0             1.5              1.5   \n",
       "2  45.0       170.0        75.0       84.0             1.0              1.0   \n",
       "3  55.0       150.0        55.0       85.0             0.9              0.5   \n",
       "4  45.0       160.0        55.0       72.0             0.5              0.6   \n",
       "\n",
       "   hearing(left)  hearing(right)  systolic  relaxation  ...  smoking  \\\n",
       "0            1.0             1.0     129.0        74.0  ...      0.0   \n",
       "1            1.0             1.0     128.0        84.0  ...      1.0   \n",
       "2            1.0             1.0     124.0        80.0  ...      1.0   \n",
       "3            1.0             1.0     123.0        79.0  ...      0.0   \n",
       "4            1.0             1.0     117.0        76.0  ...      0.0   \n",
       "\n",
       "         BMI  HW_Ratio  HA_Ratio  hemoglobin_height  hemoglobin / Gtp  \\\n",
       "0  27.681661  1.847826  3.090909             2618.0          1.184615   \n",
       "1  27.681661  1.808511  5.666667             2754.0          0.176087   \n",
       "2  25.951557  2.023810  3.777778             2482.0          0.292000   \n",
       "3  24.444444  1.764706  2.727273             2010.0          0.744444   \n",
       "4  21.484375  2.222222  3.555556             2224.0          1.390000   \n",
       "\n",
       "   cholesterol_ratio  blood_pressure_category  waist_height_ratio  \\\n",
       "0           0.429825                        1            0.541176   \n",
       "1           0.459459                        1            0.552941   \n",
       "2           0.464286                        1            0.494118   \n",
       "3           0.512605                        1            0.566667   \n",
       "4           0.508333                        0            0.450000   \n",
       "\n",
       "   Liver_Enzyme_Ratio  \n",
       "0            0.869565  \n",
       "1            0.769231  \n",
       "2            1.000000  \n",
       "3            1.250000  \n",
       "4            0.769231  \n",
       "\n",
       "[5 rows x 32 columns]"
      ]
     },
     "execution_count": 29,
     "metadata": {},
     "output_type": "execute_result"
    }
   ],
   "source": [
    "def create_features(df):\n",
    "    df['BMI'] = df['weight(kg)'] / ((df['height(cm)'] / 100) ** 2)\n",
    "    df['HW_Ratio'] = df['height(cm)'] / df['waist(cm)']\n",
    "    df['HA_Ratio'] = df['height(cm)'] / df['age'] \n",
    "    df[\"hemoglobin_height\"] = df[\"hemoglobin\"] * df[\"height(cm)\"]\n",
    "    df[\"hemoglobin / Gtp\"] = df[\"hemoglobin\"] / df[\"Gtp\"] \n",
    "    df['cholesterol_ratio'] = df['HDL'] / df['LDL']\n",
    "    df['blood_pressure_category'] = pd.cut(df['systolic'], bins=[0, 120, 140, np.inf], labels = [0, 1, 2])\n",
    "    df['waist_height_ratio'] = df['waist(cm)'] / df['height(cm)']\n",
    "    df['Liver_Enzyme_Ratio'] = df['AST'] / df['ALT'] # ----> improved in public decreased in private\n",
    "    \n",
    "    return df\n",
    "\n",
    "create_features(test).head()\n",
    "create_features(train).head()"
   ]
  },
  {
   "cell_type": "markdown",
   "metadata": {},
   "source": [
    "### Categorizing"
   ]
  },
  {
   "cell_type": "code",
   "execution_count": 30,
   "metadata": {},
   "outputs": [],
   "source": [
    "# from sklearn.preprocessing import OrdinalEncoder\n",
    "\n",
    "# def create_and_encode_categories(df):\n",
    "#     # Initialize the OrdinalEncoder\n",
    "#     ordinal_encoder = OrdinalEncoder()\n",
    "\n",
    "#     # 1. Age_Cat: Create quantile-based categories for age and encode\n",
    "#     df['Age_Cat'] = pd.qcut(df['age'], q=5)\n",
    "#     df['Age_Cat'] = ordinal_encoder.fit_transform(df[['Age_Cat']])\n",
    "\n",
    "#     # 2. Waist_Cat: Create quantile-based categories for waist(cm) and encode\n",
    "#     df['Waist_Cat'] = pd.qcut(df['waist(cm)'], q=5)\n",
    "#     df['Waist_Cat'] = ordinal_encoder.fit_transform(df[['Waist_Cat']])\n",
    "\n",
    "#     # 3. Cholesterol_Cat: Create bins for Cholesterol and encode\n",
    "#     df['Cholesterol_Cat'] = pd.cut(df['Cholesterol'], bins=[107, 200, 296])\n",
    "#     df['Cholesterol_Cat'] = ordinal_encoder.fit_transform(df[['Cholesterol_Cat']])\n",
    "\n",
    "#     # 4. Triglyceride_Cat: Create quantile-based categories for triglyceride and encode\n",
    "#     df['triglyceride_Cat'] = pd.qcut(df['triglyceride'], q=5)\n",
    "#     df['triglyceride_Cat'] = ordinal_encoder.fit_transform(df[['triglyceride_Cat']])\n",
    "\n",
    "#     return df\n",
    "\n",
    "# train = create_and_encode_categories(train)\n",
    "# test = create_and_encode_categories(test)"
   ]
  },
  {
   "cell_type": "markdown",
   "metadata": {},
   "source": [
    "### Target and data"
   ]
  },
  {
   "cell_type": "code",
   "execution_count": 31,
   "metadata": {},
   "outputs": [],
   "source": [
    "X = train.drop(['smoking'], axis = 1)\n",
    "y = train['smoking']      \n",
    "\n",
    "X_train, X_test, y_train, y_test = train_test_split(X, y, test_size=0.2, random_state=42)"
   ]
  },
  {
   "cell_type": "markdown",
   "metadata": {},
   "source": [
    "### Optuna tuning"
   ]
  },
  {
   "cell_type": "code",
   "execution_count": 32,
   "metadata": {},
   "outputs": [
    {
     "name": "stderr",
     "output_type": "stream",
     "text": [
      "[I 2024-10-29 03:07:57,359] A new study created in memory with name: no-name-3da38935-2df8-4660-9f7a-b295d8dce8cb\n",
      "[I 2024-10-29 03:08:20,658] Trial 0 finished with value: 0.8863199747901872 and parameters: {'max_depth': 7, 'n_estimators': 160, 'criterion': 'entropy'}. Best is trial 0 with value: 0.8863199747901872.\n",
      "[I 2024-10-29 03:08:44,276] Trial 1 finished with value: 0.8882519994153146 and parameters: {'max_depth': 16, 'n_estimators': 620, 'criterion': 'gini'}. Best is trial 1 with value: 0.8882519994153146.\n",
      "[I 2024-10-29 03:09:12,348] Trial 2 finished with value: 0.8889811951501483 and parameters: {'max_depth': 28, 'n_estimators': 980, 'criterion': 'entropy'}. Best is trial 2 with value: 0.8889811951501483.\n",
      "[I 2024-10-29 03:09:39,168] Trial 3 finished with value: 0.888898855117611 and parameters: {'max_depth': 22, 'n_estimators': 840, 'criterion': 'log_loss'}. Best is trial 2 with value: 0.8889811951501483.\n",
      "[I 2024-10-29 03:09:59,370] Trial 4 finished with value: 0.8874459213446246 and parameters: {'max_depth': 24, 'n_estimators': 310, 'criterion': 'entropy'}. Best is trial 2 with value: 0.8889811951501483.\n",
      "[I 2024-10-29 03:10:30,530] Trial 5 finished with value: 0.889040755231321 and parameters: {'max_depth': 30, 'n_estimators': 980, 'criterion': 'log_loss'}. Best is trial 5 with value: 0.889040755231321.\n",
      "[I 2024-10-29 03:10:54,998] Trial 6 finished with value: 0.8890350602434797 and parameters: {'max_depth': 22, 'n_estimators': 490, 'criterion': 'log_loss'}. Best is trial 5 with value: 0.889040755231321.\n",
      "[I 2024-10-29 03:11:22,508] Trial 7 finished with value: 0.8881176926187262 and parameters: {'max_depth': 16, 'n_estimators': 650, 'criterion': 'log_loss'}. Best is trial 5 with value: 0.889040755231321.\n",
      "[I 2024-10-29 03:11:53,179] Trial 8 finished with value: 0.8892861142908126 and parameters: {'max_depth': 18, 'n_estimators': 1000, 'criterion': 'entropy'}. Best is trial 8 with value: 0.8892861142908126.\n",
      "[I 2024-10-29 03:12:11,961] Trial 9 finished with value: 0.8882038293098244 and parameters: {'max_depth': 26, 'n_estimators': 200, 'criterion': 'gini'}. Best is trial 8 with value: 0.8892861142908126.\n",
      "[I 2024-10-29 03:12:33,679] Trial 10 finished with value: 0.8873360555375215 and parameters: {'max_depth': 9, 'n_estimators': 790, 'criterion': 'entropy'}. Best is trial 8 with value: 0.8892861142908126.\n",
      "[I 2024-10-29 03:13:02,696] Trial 11 finished with value: 0.8887377344199371 and parameters: {'max_depth': 32, 'n_estimators': 1000, 'criterion': 'log_loss'}. Best is trial 8 with value: 0.8892861142908126.\n",
      "[I 2024-10-29 03:13:26,693] Trial 12 finished with value: 0.888723259659174 and parameters: {'max_depth': 12, 'n_estimators': 820, 'criterion': 'entropy'}. Best is trial 8 with value: 0.8892861142908126.\n",
      "[I 2024-10-29 03:13:53,355] Trial 13 finished with value: 0.8886262075747136 and parameters: {'max_depth': 32, 'n_estimators': 870, 'criterion': 'log_loss'}. Best is trial 8 with value: 0.8892861142908126.\n",
      "[I 2024-10-29 03:14:15,933] Trial 14 finished with value: 0.888633563600675 and parameters: {'max_depth': 18, 'n_estimators': 700, 'criterion': 'gini'}. Best is trial 8 with value: 0.8892861142908126.\n",
      "[I 2024-10-29 03:14:33,579] Trial 15 finished with value: 0.8805229517501646 and parameters: {'max_depth': 4, 'n_estimators': 490, 'criterion': 'entropy'}. Best is trial 8 with value: 0.8892861142908126.\n",
      "[I 2024-10-29 03:15:01,557] Trial 16 finished with value: 0.8890924847042119 and parameters: {'max_depth': 13, 'n_estimators': 1000, 'criterion': 'log_loss'}. Best is trial 8 with value: 0.8892861142908126.\n",
      "[I 2024-10-29 03:15:22,969] Trial 17 finished with value: 0.8886862422382062 and parameters: {'max_depth': 12, 'n_estimators': 350, 'criterion': 'entropy'}. Best is trial 8 with value: 0.8892861142908126.\n",
      "[I 2024-10-29 03:15:50,877] Trial 18 finished with value: 0.8894147260995598 and parameters: {'max_depth': 14, 'n_estimators': 910, 'criterion': 'log_loss'}. Best is trial 18 with value: 0.8894147260995598.\n",
      "[I 2024-10-29 03:16:15,633] Trial 19 finished with value: 0.8883706449953397 and parameters: {'max_depth': 19, 'n_estimators': 730, 'criterion': 'gini'}. Best is trial 18 with value: 0.8894147260995598.\n",
      "[I 2024-10-29 03:16:42,950] Trial 20 finished with value: 0.8887078357337707 and parameters: {'max_depth': 20, 'n_estimators': 880, 'criterion': 'entropy'}. Best is trial 18 with value: 0.8894147260995598.\n",
      "[I 2024-10-29 03:17:10,887] Trial 21 finished with value: 0.8889781103650677 and parameters: {'max_depth': 13, 'n_estimators': 920, 'criterion': 'log_loss'}. Best is trial 18 with value: 0.8894147260995598.\n",
      "[I 2024-10-29 03:17:40,775] Trial 22 finished with value: 0.8892628597571278 and parameters: {'max_depth': 15, 'n_estimators': 940, 'criterion': 'log_loss'}. Best is trial 18 with value: 0.8894147260995598.\n",
      "[I 2024-10-29 03:18:09,009] Trial 23 finished with value: 0.8887488871044594 and parameters: {'max_depth': 16, 'n_estimators': 920, 'criterion': 'log_loss'}. Best is trial 18 with value: 0.8894147260995598.\n",
      "[I 2024-10-29 03:18:31,958] Trial 24 finished with value: 0.8880915905911206 and parameters: {'max_depth': 10, 'n_estimators': 770, 'criterion': 'log_loss'}. Best is trial 18 with value: 0.8894147260995598.\n"
     ]
    },
    {
     "name": "stdout",
     "output_type": "stream",
     "text": [
      "Best parameters: {'max_depth': 14, 'n_estimators': 910, 'criterion': 'log_loss'}\n",
      "Best ROC AUC score: 0.8894147260995598\n"
     ]
    },
    {
     "ename": "ValueError",
     "evalue": "Mime type rendering requires nbformat>=4.2.0 but it is not installed",
     "output_type": "error",
     "traceback": [
      "\u001b[1;31m---------------------------------------------------------------------------\u001b[0m",
      "\u001b[1;31mValueError\u001b[0m                                Traceback (most recent call last)",
      "File \u001b[1;32m~\\AppData\\Roaming\\Python\\Python313\\site-packages\\IPython\\core\\formatters.py:925\u001b[0m, in \u001b[0;36mIPythonDisplayFormatter.__call__\u001b[1;34m(self, obj)\u001b[0m\n\u001b[0;32m    923\u001b[0m method \u001b[38;5;241m=\u001b[39m get_real_method(obj, \u001b[38;5;28mself\u001b[39m\u001b[38;5;241m.\u001b[39mprint_method)\n\u001b[0;32m    924\u001b[0m \u001b[38;5;28;01mif\u001b[39;00m method \u001b[38;5;129;01mis\u001b[39;00m \u001b[38;5;129;01mnot\u001b[39;00m \u001b[38;5;28;01mNone\u001b[39;00m:\n\u001b[1;32m--> 925\u001b[0m     \u001b[43mmethod\u001b[49m\u001b[43m(\u001b[49m\u001b[43m)\u001b[49m\n\u001b[0;32m    926\u001b[0m     \u001b[38;5;28;01mreturn\u001b[39;00m \u001b[38;5;28;01mTrue\u001b[39;00m\n",
      "File \u001b[1;32mc:\\Users\\User\\AppData\\Local\\Programs\\Python\\Python313\\Lib\\site-packages\\plotly\\basedatatypes.py:832\u001b[0m, in \u001b[0;36mBaseFigure._ipython_display_\u001b[1;34m(self)\u001b[0m\n\u001b[0;32m    829\u001b[0m \u001b[38;5;28;01mimport\u001b[39;00m \u001b[38;5;21;01mplotly\u001b[39;00m\u001b[38;5;21;01m.\u001b[39;00m\u001b[38;5;21;01mio\u001b[39;00m \u001b[38;5;28;01mas\u001b[39;00m \u001b[38;5;21;01mpio\u001b[39;00m\n\u001b[0;32m    831\u001b[0m \u001b[38;5;28;01mif\u001b[39;00m pio\u001b[38;5;241m.\u001b[39mrenderers\u001b[38;5;241m.\u001b[39mrender_on_display \u001b[38;5;129;01mand\u001b[39;00m pio\u001b[38;5;241m.\u001b[39mrenderers\u001b[38;5;241m.\u001b[39mdefault:\n\u001b[1;32m--> 832\u001b[0m     \u001b[43mpio\u001b[49m\u001b[38;5;241;43m.\u001b[39;49m\u001b[43mshow\u001b[49m\u001b[43m(\u001b[49m\u001b[38;5;28;43mself\u001b[39;49m\u001b[43m)\u001b[49m\n\u001b[0;32m    833\u001b[0m \u001b[38;5;28;01melse\u001b[39;00m:\n\u001b[0;32m    834\u001b[0m     \u001b[38;5;28mprint\u001b[39m(\u001b[38;5;28mrepr\u001b[39m(\u001b[38;5;28mself\u001b[39m))\n",
      "File \u001b[1;32mc:\\Users\\User\\AppData\\Local\\Programs\\Python\\Python313\\Lib\\site-packages\\plotly\\io\\_renderers.py:394\u001b[0m, in \u001b[0;36mshow\u001b[1;34m(fig, renderer, validate, **kwargs)\u001b[0m\n\u001b[0;32m    389\u001b[0m         \u001b[38;5;28;01mraise\u001b[39;00m \u001b[38;5;167;01mValueError\u001b[39;00m(\n\u001b[0;32m    390\u001b[0m             \u001b[38;5;124m\"\u001b[39m\u001b[38;5;124mMime type rendering requires ipython but it is not installed\u001b[39m\u001b[38;5;124m\"\u001b[39m\n\u001b[0;32m    391\u001b[0m         )\n\u001b[0;32m    393\u001b[0m     \u001b[38;5;28;01mif\u001b[39;00m \u001b[38;5;129;01mnot\u001b[39;00m nbformat \u001b[38;5;129;01mor\u001b[39;00m Version(nbformat\u001b[38;5;241m.\u001b[39m__version__) \u001b[38;5;241m<\u001b[39m Version(\u001b[38;5;124m\"\u001b[39m\u001b[38;5;124m4.2.0\u001b[39m\u001b[38;5;124m\"\u001b[39m):\n\u001b[1;32m--> 394\u001b[0m         \u001b[38;5;28;01mraise\u001b[39;00m \u001b[38;5;167;01mValueError\u001b[39;00m(\n\u001b[0;32m    395\u001b[0m             \u001b[38;5;124m\"\u001b[39m\u001b[38;5;124mMime type rendering requires nbformat>=4.2.0 but it is not installed\u001b[39m\u001b[38;5;124m\"\u001b[39m\n\u001b[0;32m    396\u001b[0m         )\n\u001b[0;32m    398\u001b[0m     ipython_display\u001b[38;5;241m.\u001b[39mdisplay(bundle, raw\u001b[38;5;241m=\u001b[39m\u001b[38;5;28;01mTrue\u001b[39;00m)\n\u001b[0;32m    400\u001b[0m \u001b[38;5;66;03m# external renderers\u001b[39;00m\n",
      "\u001b[1;31mValueError\u001b[0m: Mime type rendering requires nbformat>=4.2.0 but it is not installed"
     ]
    },
    {
     "data": {
      "application/vnd.plotly.v1+json": {
       "config": {
        "plotlyServerURL": "https://plot.ly"
       },
       "data": [
        {
         "cliponaxis": false,
         "hovertemplate": [
          "criterion (CategoricalDistribution): 0.03758959199837121<extra></extra>",
          "n_estimators (IntDistribution): 0.19378500344599814<extra></extra>",
          "max_depth (IntDistribution): 0.7686254045556307<extra></extra>"
         ],
         "name": "Objective Value",
         "orientation": "h",
         "text": [
          "0.04",
          "0.19",
          "0.77"
         ],
         "textposition": "outside",
         "type": "bar",
         "x": [
          0.03758959199837121,
          0.19378500344599814,
          0.7686254045556307
         ],
         "y": [
          "criterion",
          "n_estimators",
          "max_depth"
         ]
        }
       ],
       "layout": {
        "template": {
         "data": {
          "bar": [
           {
            "error_x": {
             "color": "#2a3f5f"
            },
            "error_y": {
             "color": "#2a3f5f"
            },
            "marker": {
             "line": {
              "color": "#E5ECF6",
              "width": 0.5
             },
             "pattern": {
              "fillmode": "overlay",
              "size": 10,
              "solidity": 0.2
             }
            },
            "type": "bar"
           }
          ],
          "barpolar": [
           {
            "marker": {
             "line": {
              "color": "#E5ECF6",
              "width": 0.5
             },
             "pattern": {
              "fillmode": "overlay",
              "size": 10,
              "solidity": 0.2
             }
            },
            "type": "barpolar"
           }
          ],
          "carpet": [
           {
            "aaxis": {
             "endlinecolor": "#2a3f5f",
             "gridcolor": "white",
             "linecolor": "white",
             "minorgridcolor": "white",
             "startlinecolor": "#2a3f5f"
            },
            "baxis": {
             "endlinecolor": "#2a3f5f",
             "gridcolor": "white",
             "linecolor": "white",
             "minorgridcolor": "white",
             "startlinecolor": "#2a3f5f"
            },
            "type": "carpet"
           }
          ],
          "choropleth": [
           {
            "colorbar": {
             "outlinewidth": 0,
             "ticks": ""
            },
            "type": "choropleth"
           }
          ],
          "contour": [
           {
            "colorbar": {
             "outlinewidth": 0,
             "ticks": ""
            },
            "colorscale": [
             [
              0,
              "#0d0887"
             ],
             [
              0.1111111111111111,
              "#46039f"
             ],
             [
              0.2222222222222222,
              "#7201a8"
             ],
             [
              0.3333333333333333,
              "#9c179e"
             ],
             [
              0.4444444444444444,
              "#bd3786"
             ],
             [
              0.5555555555555556,
              "#d8576b"
             ],
             [
              0.6666666666666666,
              "#ed7953"
             ],
             [
              0.7777777777777778,
              "#fb9f3a"
             ],
             [
              0.8888888888888888,
              "#fdca26"
             ],
             [
              1,
              "#f0f921"
             ]
            ],
            "type": "contour"
           }
          ],
          "contourcarpet": [
           {
            "colorbar": {
             "outlinewidth": 0,
             "ticks": ""
            },
            "type": "contourcarpet"
           }
          ],
          "heatmap": [
           {
            "colorbar": {
             "outlinewidth": 0,
             "ticks": ""
            },
            "colorscale": [
             [
              0,
              "#0d0887"
             ],
             [
              0.1111111111111111,
              "#46039f"
             ],
             [
              0.2222222222222222,
              "#7201a8"
             ],
             [
              0.3333333333333333,
              "#9c179e"
             ],
             [
              0.4444444444444444,
              "#bd3786"
             ],
             [
              0.5555555555555556,
              "#d8576b"
             ],
             [
              0.6666666666666666,
              "#ed7953"
             ],
             [
              0.7777777777777778,
              "#fb9f3a"
             ],
             [
              0.8888888888888888,
              "#fdca26"
             ],
             [
              1,
              "#f0f921"
             ]
            ],
            "type": "heatmap"
           }
          ],
          "heatmapgl": [
           {
            "colorbar": {
             "outlinewidth": 0,
             "ticks": ""
            },
            "colorscale": [
             [
              0,
              "#0d0887"
             ],
             [
              0.1111111111111111,
              "#46039f"
             ],
             [
              0.2222222222222222,
              "#7201a8"
             ],
             [
              0.3333333333333333,
              "#9c179e"
             ],
             [
              0.4444444444444444,
              "#bd3786"
             ],
             [
              0.5555555555555556,
              "#d8576b"
             ],
             [
              0.6666666666666666,
              "#ed7953"
             ],
             [
              0.7777777777777778,
              "#fb9f3a"
             ],
             [
              0.8888888888888888,
              "#fdca26"
             ],
             [
              1,
              "#f0f921"
             ]
            ],
            "type": "heatmapgl"
           }
          ],
          "histogram": [
           {
            "marker": {
             "pattern": {
              "fillmode": "overlay",
              "size": 10,
              "solidity": 0.2
             }
            },
            "type": "histogram"
           }
          ],
          "histogram2d": [
           {
            "colorbar": {
             "outlinewidth": 0,
             "ticks": ""
            },
            "colorscale": [
             [
              0,
              "#0d0887"
             ],
             [
              0.1111111111111111,
              "#46039f"
             ],
             [
              0.2222222222222222,
              "#7201a8"
             ],
             [
              0.3333333333333333,
              "#9c179e"
             ],
             [
              0.4444444444444444,
              "#bd3786"
             ],
             [
              0.5555555555555556,
              "#d8576b"
             ],
             [
              0.6666666666666666,
              "#ed7953"
             ],
             [
              0.7777777777777778,
              "#fb9f3a"
             ],
             [
              0.8888888888888888,
              "#fdca26"
             ],
             [
              1,
              "#f0f921"
             ]
            ],
            "type": "histogram2d"
           }
          ],
          "histogram2dcontour": [
           {
            "colorbar": {
             "outlinewidth": 0,
             "ticks": ""
            },
            "colorscale": [
             [
              0,
              "#0d0887"
             ],
             [
              0.1111111111111111,
              "#46039f"
             ],
             [
              0.2222222222222222,
              "#7201a8"
             ],
             [
              0.3333333333333333,
              "#9c179e"
             ],
             [
              0.4444444444444444,
              "#bd3786"
             ],
             [
              0.5555555555555556,
              "#d8576b"
             ],
             [
              0.6666666666666666,
              "#ed7953"
             ],
             [
              0.7777777777777778,
              "#fb9f3a"
             ],
             [
              0.8888888888888888,
              "#fdca26"
             ],
             [
              1,
              "#f0f921"
             ]
            ],
            "type": "histogram2dcontour"
           }
          ],
          "mesh3d": [
           {
            "colorbar": {
             "outlinewidth": 0,
             "ticks": ""
            },
            "type": "mesh3d"
           }
          ],
          "parcoords": [
           {
            "line": {
             "colorbar": {
              "outlinewidth": 0,
              "ticks": ""
             }
            },
            "type": "parcoords"
           }
          ],
          "pie": [
           {
            "automargin": true,
            "type": "pie"
           }
          ],
          "scatter": [
           {
            "fillpattern": {
             "fillmode": "overlay",
             "size": 10,
             "solidity": 0.2
            },
            "type": "scatter"
           }
          ],
          "scatter3d": [
           {
            "line": {
             "colorbar": {
              "outlinewidth": 0,
              "ticks": ""
             }
            },
            "marker": {
             "colorbar": {
              "outlinewidth": 0,
              "ticks": ""
             }
            },
            "type": "scatter3d"
           }
          ],
          "scattercarpet": [
           {
            "marker": {
             "colorbar": {
              "outlinewidth": 0,
              "ticks": ""
             }
            },
            "type": "scattercarpet"
           }
          ],
          "scattergeo": [
           {
            "marker": {
             "colorbar": {
              "outlinewidth": 0,
              "ticks": ""
             }
            },
            "type": "scattergeo"
           }
          ],
          "scattergl": [
           {
            "marker": {
             "colorbar": {
              "outlinewidth": 0,
              "ticks": ""
             }
            },
            "type": "scattergl"
           }
          ],
          "scattermapbox": [
           {
            "marker": {
             "colorbar": {
              "outlinewidth": 0,
              "ticks": ""
             }
            },
            "type": "scattermapbox"
           }
          ],
          "scatterpolar": [
           {
            "marker": {
             "colorbar": {
              "outlinewidth": 0,
              "ticks": ""
             }
            },
            "type": "scatterpolar"
           }
          ],
          "scatterpolargl": [
           {
            "marker": {
             "colorbar": {
              "outlinewidth": 0,
              "ticks": ""
             }
            },
            "type": "scatterpolargl"
           }
          ],
          "scatterternary": [
           {
            "marker": {
             "colorbar": {
              "outlinewidth": 0,
              "ticks": ""
             }
            },
            "type": "scatterternary"
           }
          ],
          "surface": [
           {
            "colorbar": {
             "outlinewidth": 0,
             "ticks": ""
            },
            "colorscale": [
             [
              0,
              "#0d0887"
             ],
             [
              0.1111111111111111,
              "#46039f"
             ],
             [
              0.2222222222222222,
              "#7201a8"
             ],
             [
              0.3333333333333333,
              "#9c179e"
             ],
             [
              0.4444444444444444,
              "#bd3786"
             ],
             [
              0.5555555555555556,
              "#d8576b"
             ],
             [
              0.6666666666666666,
              "#ed7953"
             ],
             [
              0.7777777777777778,
              "#fb9f3a"
             ],
             [
              0.8888888888888888,
              "#fdca26"
             ],
             [
              1,
              "#f0f921"
             ]
            ],
            "type": "surface"
           }
          ],
          "table": [
           {
            "cells": {
             "fill": {
              "color": "#EBF0F8"
             },
             "line": {
              "color": "white"
             }
            },
            "header": {
             "fill": {
              "color": "#C8D4E3"
             },
             "line": {
              "color": "white"
             }
            },
            "type": "table"
           }
          ]
         },
         "layout": {
          "annotationdefaults": {
           "arrowcolor": "#2a3f5f",
           "arrowhead": 0,
           "arrowwidth": 1
          },
          "autotypenumbers": "strict",
          "coloraxis": {
           "colorbar": {
            "outlinewidth": 0,
            "ticks": ""
           }
          },
          "colorscale": {
           "diverging": [
            [
             0,
             "#8e0152"
            ],
            [
             0.1,
             "#c51b7d"
            ],
            [
             0.2,
             "#de77ae"
            ],
            [
             0.3,
             "#f1b6da"
            ],
            [
             0.4,
             "#fde0ef"
            ],
            [
             0.5,
             "#f7f7f7"
            ],
            [
             0.6,
             "#e6f5d0"
            ],
            [
             0.7,
             "#b8e186"
            ],
            [
             0.8,
             "#7fbc41"
            ],
            [
             0.9,
             "#4d9221"
            ],
            [
             1,
             "#276419"
            ]
           ],
           "sequential": [
            [
             0,
             "#0d0887"
            ],
            [
             0.1111111111111111,
             "#46039f"
            ],
            [
             0.2222222222222222,
             "#7201a8"
            ],
            [
             0.3333333333333333,
             "#9c179e"
            ],
            [
             0.4444444444444444,
             "#bd3786"
            ],
            [
             0.5555555555555556,
             "#d8576b"
            ],
            [
             0.6666666666666666,
             "#ed7953"
            ],
            [
             0.7777777777777778,
             "#fb9f3a"
            ],
            [
             0.8888888888888888,
             "#fdca26"
            ],
            [
             1,
             "#f0f921"
            ]
           ],
           "sequentialminus": [
            [
             0,
             "#0d0887"
            ],
            [
             0.1111111111111111,
             "#46039f"
            ],
            [
             0.2222222222222222,
             "#7201a8"
            ],
            [
             0.3333333333333333,
             "#9c179e"
            ],
            [
             0.4444444444444444,
             "#bd3786"
            ],
            [
             0.5555555555555556,
             "#d8576b"
            ],
            [
             0.6666666666666666,
             "#ed7953"
            ],
            [
             0.7777777777777778,
             "#fb9f3a"
            ],
            [
             0.8888888888888888,
             "#fdca26"
            ],
            [
             1,
             "#f0f921"
            ]
           ]
          },
          "colorway": [
           "#636efa",
           "#EF553B",
           "#00cc96",
           "#ab63fa",
           "#FFA15A",
           "#19d3f3",
           "#FF6692",
           "#B6E880",
           "#FF97FF",
           "#FECB52"
          ],
          "font": {
           "color": "#2a3f5f"
          },
          "geo": {
           "bgcolor": "white",
           "lakecolor": "white",
           "landcolor": "#E5ECF6",
           "showlakes": true,
           "showland": true,
           "subunitcolor": "white"
          },
          "hoverlabel": {
           "align": "left"
          },
          "hovermode": "closest",
          "mapbox": {
           "style": "light"
          },
          "paper_bgcolor": "white",
          "plot_bgcolor": "#E5ECF6",
          "polar": {
           "angularaxis": {
            "gridcolor": "white",
            "linecolor": "white",
            "ticks": ""
           },
           "bgcolor": "#E5ECF6",
           "radialaxis": {
            "gridcolor": "white",
            "linecolor": "white",
            "ticks": ""
           }
          },
          "scene": {
           "xaxis": {
            "backgroundcolor": "#E5ECF6",
            "gridcolor": "white",
            "gridwidth": 2,
            "linecolor": "white",
            "showbackground": true,
            "ticks": "",
            "zerolinecolor": "white"
           },
           "yaxis": {
            "backgroundcolor": "#E5ECF6",
            "gridcolor": "white",
            "gridwidth": 2,
            "linecolor": "white",
            "showbackground": true,
            "ticks": "",
            "zerolinecolor": "white"
           },
           "zaxis": {
            "backgroundcolor": "#E5ECF6",
            "gridcolor": "white",
            "gridwidth": 2,
            "linecolor": "white",
            "showbackground": true,
            "ticks": "",
            "zerolinecolor": "white"
           }
          },
          "shapedefaults": {
           "line": {
            "color": "#2a3f5f"
           }
          },
          "ternary": {
           "aaxis": {
            "gridcolor": "white",
            "linecolor": "white",
            "ticks": ""
           },
           "baxis": {
            "gridcolor": "white",
            "linecolor": "white",
            "ticks": ""
           },
           "bgcolor": "#E5ECF6",
           "caxis": {
            "gridcolor": "white",
            "linecolor": "white",
            "ticks": ""
           }
          },
          "title": {
           "x": 0.05
          },
          "xaxis": {
           "automargin": true,
           "gridcolor": "white",
           "linecolor": "white",
           "ticks": "",
           "title": {
            "standoff": 15
           },
           "zerolinecolor": "white",
           "zerolinewidth": 2
          },
          "yaxis": {
           "automargin": true,
           "gridcolor": "white",
           "linecolor": "white",
           "ticks": "",
           "title": {
            "standoff": 15
           },
           "zerolinecolor": "white",
           "zerolinewidth": 2
          }
         }
        },
        "title": {
         "text": "Hyperparameter Importances"
        },
        "xaxis": {
         "title": {
          "text": "Hyperparameter Importance"
         }
        },
        "yaxis": {
         "title": {
          "text": "Hyperparameter"
         }
        }
       }
      },
      "text/html": [
       "<div>                        <script type=\"text/javascript\">window.PlotlyConfig = {MathJaxConfig: 'local'};</script>\n",
       "        <script charset=\"utf-8\" src=\"https://cdn.plot.ly/plotly-2.35.2.min.js\"></script>                <div id=\"d0ad93c5-fef1-42a4-a5d3-b56e13918309\" class=\"plotly-graph-div\" style=\"height:100%; width:100%;\"></div>            <script type=\"text/javascript\">                                    window.PLOTLYENV=window.PLOTLYENV || {};                                    if (document.getElementById(\"d0ad93c5-fef1-42a4-a5d3-b56e13918309\")) {                    Plotly.newPlot(                        \"d0ad93c5-fef1-42a4-a5d3-b56e13918309\",                        [{\"cliponaxis\":false,\"hovertemplate\":[\"criterion (CategoricalDistribution): 0.03758959199837121\\u003cextra\\u003e\\u003c\\u002fextra\\u003e\",\"n_estimators (IntDistribution): 0.19378500344599814\\u003cextra\\u003e\\u003c\\u002fextra\\u003e\",\"max_depth (IntDistribution): 0.7686254045556307\\u003cextra\\u003e\\u003c\\u002fextra\\u003e\"],\"name\":\"Objective Value\",\"orientation\":\"h\",\"text\":[\"0.04\",\"0.19\",\"0.77\"],\"textposition\":\"outside\",\"x\":[0.03758959199837121,0.19378500344599814,0.7686254045556307],\"y\":[\"criterion\",\"n_estimators\",\"max_depth\"],\"type\":\"bar\"}],                        {\"title\":{\"text\":\"Hyperparameter Importances\"},\"xaxis\":{\"title\":{\"text\":\"Hyperparameter Importance\"}},\"yaxis\":{\"title\":{\"text\":\"Hyperparameter\"}},\"template\":{\"data\":{\"histogram2dcontour\":[{\"type\":\"histogram2dcontour\",\"colorbar\":{\"outlinewidth\":0,\"ticks\":\"\"},\"colorscale\":[[0.0,\"#0d0887\"],[0.1111111111111111,\"#46039f\"],[0.2222222222222222,\"#7201a8\"],[0.3333333333333333,\"#9c179e\"],[0.4444444444444444,\"#bd3786\"],[0.5555555555555556,\"#d8576b\"],[0.6666666666666666,\"#ed7953\"],[0.7777777777777778,\"#fb9f3a\"],[0.8888888888888888,\"#fdca26\"],[1.0,\"#f0f921\"]]}],\"choropleth\":[{\"type\":\"choropleth\",\"colorbar\":{\"outlinewidth\":0,\"ticks\":\"\"}}],\"histogram2d\":[{\"type\":\"histogram2d\",\"colorbar\":{\"outlinewidth\":0,\"ticks\":\"\"},\"colorscale\":[[0.0,\"#0d0887\"],[0.1111111111111111,\"#46039f\"],[0.2222222222222222,\"#7201a8\"],[0.3333333333333333,\"#9c179e\"],[0.4444444444444444,\"#bd3786\"],[0.5555555555555556,\"#d8576b\"],[0.6666666666666666,\"#ed7953\"],[0.7777777777777778,\"#fb9f3a\"],[0.8888888888888888,\"#fdca26\"],[1.0,\"#f0f921\"]]}],\"heatmap\":[{\"type\":\"heatmap\",\"colorbar\":{\"outlinewidth\":0,\"ticks\":\"\"},\"colorscale\":[[0.0,\"#0d0887\"],[0.1111111111111111,\"#46039f\"],[0.2222222222222222,\"#7201a8\"],[0.3333333333333333,\"#9c179e\"],[0.4444444444444444,\"#bd3786\"],[0.5555555555555556,\"#d8576b\"],[0.6666666666666666,\"#ed7953\"],[0.7777777777777778,\"#fb9f3a\"],[0.8888888888888888,\"#fdca26\"],[1.0,\"#f0f921\"]]}],\"heatmapgl\":[{\"type\":\"heatmapgl\",\"colorbar\":{\"outlinewidth\":0,\"ticks\":\"\"},\"colorscale\":[[0.0,\"#0d0887\"],[0.1111111111111111,\"#46039f\"],[0.2222222222222222,\"#7201a8\"],[0.3333333333333333,\"#9c179e\"],[0.4444444444444444,\"#bd3786\"],[0.5555555555555556,\"#d8576b\"],[0.6666666666666666,\"#ed7953\"],[0.7777777777777778,\"#fb9f3a\"],[0.8888888888888888,\"#fdca26\"],[1.0,\"#f0f921\"]]}],\"contourcarpet\":[{\"type\":\"contourcarpet\",\"colorbar\":{\"outlinewidth\":0,\"ticks\":\"\"}}],\"contour\":[{\"type\":\"contour\",\"colorbar\":{\"outlinewidth\":0,\"ticks\":\"\"},\"colorscale\":[[0.0,\"#0d0887\"],[0.1111111111111111,\"#46039f\"],[0.2222222222222222,\"#7201a8\"],[0.3333333333333333,\"#9c179e\"],[0.4444444444444444,\"#bd3786\"],[0.5555555555555556,\"#d8576b\"],[0.6666666666666666,\"#ed7953\"],[0.7777777777777778,\"#fb9f3a\"],[0.8888888888888888,\"#fdca26\"],[1.0,\"#f0f921\"]]}],\"surface\":[{\"type\":\"surface\",\"colorbar\":{\"outlinewidth\":0,\"ticks\":\"\"},\"colorscale\":[[0.0,\"#0d0887\"],[0.1111111111111111,\"#46039f\"],[0.2222222222222222,\"#7201a8\"],[0.3333333333333333,\"#9c179e\"],[0.4444444444444444,\"#bd3786\"],[0.5555555555555556,\"#d8576b\"],[0.6666666666666666,\"#ed7953\"],[0.7777777777777778,\"#fb9f3a\"],[0.8888888888888888,\"#fdca26\"],[1.0,\"#f0f921\"]]}],\"mesh3d\":[{\"type\":\"mesh3d\",\"colorbar\":{\"outlinewidth\":0,\"ticks\":\"\"}}],\"scatter\":[{\"fillpattern\":{\"fillmode\":\"overlay\",\"size\":10,\"solidity\":0.2},\"type\":\"scatter\"}],\"parcoords\":[{\"type\":\"parcoords\",\"line\":{\"colorbar\":{\"outlinewidth\":0,\"ticks\":\"\"}}}],\"scatterpolargl\":[{\"type\":\"scatterpolargl\",\"marker\":{\"colorbar\":{\"outlinewidth\":0,\"ticks\":\"\"}}}],\"bar\":[{\"error_x\":{\"color\":\"#2a3f5f\"},\"error_y\":{\"color\":\"#2a3f5f\"},\"marker\":{\"line\":{\"color\":\"#E5ECF6\",\"width\":0.5},\"pattern\":{\"fillmode\":\"overlay\",\"size\":10,\"solidity\":0.2}},\"type\":\"bar\"}],\"scattergeo\":[{\"type\":\"scattergeo\",\"marker\":{\"colorbar\":{\"outlinewidth\":0,\"ticks\":\"\"}}}],\"scatterpolar\":[{\"type\":\"scatterpolar\",\"marker\":{\"colorbar\":{\"outlinewidth\":0,\"ticks\":\"\"}}}],\"histogram\":[{\"marker\":{\"pattern\":{\"fillmode\":\"overlay\",\"size\":10,\"solidity\":0.2}},\"type\":\"histogram\"}],\"scattergl\":[{\"type\":\"scattergl\",\"marker\":{\"colorbar\":{\"outlinewidth\":0,\"ticks\":\"\"}}}],\"scatter3d\":[{\"type\":\"scatter3d\",\"line\":{\"colorbar\":{\"outlinewidth\":0,\"ticks\":\"\"}},\"marker\":{\"colorbar\":{\"outlinewidth\":0,\"ticks\":\"\"}}}],\"scattermapbox\":[{\"type\":\"scattermapbox\",\"marker\":{\"colorbar\":{\"outlinewidth\":0,\"ticks\":\"\"}}}],\"scatterternary\":[{\"type\":\"scatterternary\",\"marker\":{\"colorbar\":{\"outlinewidth\":0,\"ticks\":\"\"}}}],\"scattercarpet\":[{\"type\":\"scattercarpet\",\"marker\":{\"colorbar\":{\"outlinewidth\":0,\"ticks\":\"\"}}}],\"carpet\":[{\"aaxis\":{\"endlinecolor\":\"#2a3f5f\",\"gridcolor\":\"white\",\"linecolor\":\"white\",\"minorgridcolor\":\"white\",\"startlinecolor\":\"#2a3f5f\"},\"baxis\":{\"endlinecolor\":\"#2a3f5f\",\"gridcolor\":\"white\",\"linecolor\":\"white\",\"minorgridcolor\":\"white\",\"startlinecolor\":\"#2a3f5f\"},\"type\":\"carpet\"}],\"table\":[{\"cells\":{\"fill\":{\"color\":\"#EBF0F8\"},\"line\":{\"color\":\"white\"}},\"header\":{\"fill\":{\"color\":\"#C8D4E3\"},\"line\":{\"color\":\"white\"}},\"type\":\"table\"}],\"barpolar\":[{\"marker\":{\"line\":{\"color\":\"#E5ECF6\",\"width\":0.5},\"pattern\":{\"fillmode\":\"overlay\",\"size\":10,\"solidity\":0.2}},\"type\":\"barpolar\"}],\"pie\":[{\"automargin\":true,\"type\":\"pie\"}]},\"layout\":{\"autotypenumbers\":\"strict\",\"colorway\":[\"#636efa\",\"#EF553B\",\"#00cc96\",\"#ab63fa\",\"#FFA15A\",\"#19d3f3\",\"#FF6692\",\"#B6E880\",\"#FF97FF\",\"#FECB52\"],\"font\":{\"color\":\"#2a3f5f\"},\"hovermode\":\"closest\",\"hoverlabel\":{\"align\":\"left\"},\"paper_bgcolor\":\"white\",\"plot_bgcolor\":\"#E5ECF6\",\"polar\":{\"bgcolor\":\"#E5ECF6\",\"angularaxis\":{\"gridcolor\":\"white\",\"linecolor\":\"white\",\"ticks\":\"\"},\"radialaxis\":{\"gridcolor\":\"white\",\"linecolor\":\"white\",\"ticks\":\"\"}},\"ternary\":{\"bgcolor\":\"#E5ECF6\",\"aaxis\":{\"gridcolor\":\"white\",\"linecolor\":\"white\",\"ticks\":\"\"},\"baxis\":{\"gridcolor\":\"white\",\"linecolor\":\"white\",\"ticks\":\"\"},\"caxis\":{\"gridcolor\":\"white\",\"linecolor\":\"white\",\"ticks\":\"\"}},\"coloraxis\":{\"colorbar\":{\"outlinewidth\":0,\"ticks\":\"\"}},\"colorscale\":{\"sequential\":[[0.0,\"#0d0887\"],[0.1111111111111111,\"#46039f\"],[0.2222222222222222,\"#7201a8\"],[0.3333333333333333,\"#9c179e\"],[0.4444444444444444,\"#bd3786\"],[0.5555555555555556,\"#d8576b\"],[0.6666666666666666,\"#ed7953\"],[0.7777777777777778,\"#fb9f3a\"],[0.8888888888888888,\"#fdca26\"],[1.0,\"#f0f921\"]],\"sequentialminus\":[[0.0,\"#0d0887\"],[0.1111111111111111,\"#46039f\"],[0.2222222222222222,\"#7201a8\"],[0.3333333333333333,\"#9c179e\"],[0.4444444444444444,\"#bd3786\"],[0.5555555555555556,\"#d8576b\"],[0.6666666666666666,\"#ed7953\"],[0.7777777777777778,\"#fb9f3a\"],[0.8888888888888888,\"#fdca26\"],[1.0,\"#f0f921\"]],\"diverging\":[[0,\"#8e0152\"],[0.1,\"#c51b7d\"],[0.2,\"#de77ae\"],[0.3,\"#f1b6da\"],[0.4,\"#fde0ef\"],[0.5,\"#f7f7f7\"],[0.6,\"#e6f5d0\"],[0.7,\"#b8e186\"],[0.8,\"#7fbc41\"],[0.9,\"#4d9221\"],[1,\"#276419\"]]},\"xaxis\":{\"gridcolor\":\"white\",\"linecolor\":\"white\",\"ticks\":\"\",\"title\":{\"standoff\":15},\"zerolinecolor\":\"white\",\"automargin\":true,\"zerolinewidth\":2},\"yaxis\":{\"gridcolor\":\"white\",\"linecolor\":\"white\",\"ticks\":\"\",\"title\":{\"standoff\":15},\"zerolinecolor\":\"white\",\"automargin\":true,\"zerolinewidth\":2},\"scene\":{\"xaxis\":{\"backgroundcolor\":\"#E5ECF6\",\"gridcolor\":\"white\",\"linecolor\":\"white\",\"showbackground\":true,\"ticks\":\"\",\"zerolinecolor\":\"white\",\"gridwidth\":2},\"yaxis\":{\"backgroundcolor\":\"#E5ECF6\",\"gridcolor\":\"white\",\"linecolor\":\"white\",\"showbackground\":true,\"ticks\":\"\",\"zerolinecolor\":\"white\",\"gridwidth\":2},\"zaxis\":{\"backgroundcolor\":\"#E5ECF6\",\"gridcolor\":\"white\",\"linecolor\":\"white\",\"showbackground\":true,\"ticks\":\"\",\"zerolinecolor\":\"white\",\"gridwidth\":2}},\"shapedefaults\":{\"line\":{\"color\":\"#2a3f5f\"}},\"annotationdefaults\":{\"arrowcolor\":\"#2a3f5f\",\"arrowhead\":0,\"arrowwidth\":1},\"geo\":{\"bgcolor\":\"white\",\"landcolor\":\"#E5ECF6\",\"subunitcolor\":\"white\",\"showland\":true,\"showlakes\":true,\"lakecolor\":\"white\"},\"title\":{\"x\":0.05},\"mapbox\":{\"style\":\"light\"}}}},                        {\"responsive\": true}                    )                };                            </script>        </div>"
      ],
      "text/plain": [
       "Figure({\n",
       "    'data': [{'cliponaxis': False,\n",
       "              'hovertemplate': [criterion (CategoricalDistribution):\n",
       "                                0.03758959199837121<extra></extra>, n_estimators\n",
       "                                (IntDistribution):\n",
       "                                0.19378500344599814<extra></extra>, max_depth\n",
       "                                (IntDistribution):\n",
       "                                0.7686254045556307<extra></extra>],\n",
       "              'name': 'Objective Value',\n",
       "              'orientation': 'h',\n",
       "              'text': [0.04, 0.19, 0.77],\n",
       "              'textposition': 'outside',\n",
       "              'type': 'bar',\n",
       "              'x': [0.03758959199837121, 0.19378500344599814, 0.7686254045556307],\n",
       "              'y': [criterion, n_estimators, max_depth]}],\n",
       "    'layout': {'template': '...',\n",
       "               'title': {'text': 'Hyperparameter Importances'},\n",
       "               'xaxis': {'title': {'text': 'Hyperparameter Importance'}},\n",
       "               'yaxis': {'title': {'text': 'Hyperparameter'}}}\n",
       "})"
      ]
     },
     "execution_count": 32,
     "metadata": {},
     "output_type": "execute_result"
    }
   ],
   "source": [
    "import optuna\n",
    "from sklearn.ensemble import StackingClassifier, RandomForestClassifier\n",
    "from sklearn.linear_model import LogisticRegression\n",
    "from sklearn.pipeline import Pipeline\n",
    "from sklearn.preprocessing import StandardScaler, PolynomialFeatures\n",
    "from sklearn.model_selection import train_test_split, cross_val_score\n",
    "from sklearn.metrics import roc_auc_score\n",
    "\n",
    "# Assuming X and y are already defined\n",
    "X_train, X_test, y_train, y_test = train_test_split(X, y, test_size=0.2, random_state=42)\n",
    "\n",
    "# Define the Logistic Regression pipeline with polynomial features of degree 2, scaling, and logistic regression\n",
    "logistic_pipeline = Pipeline([\n",
    "    ('polynomial', PolynomialFeatures(degree=2, include_bias=False)),\n",
    "    ('scaler', StandardScaler()),\n",
    "    ('logistic', LogisticRegression(max_iter=500, random_state=42, n_jobs=-1))\n",
    "])\n",
    "\n",
    "def objective(trial):\n",
    "    max_depth = trial.suggest_int(\"max_depth\", 4, 32)\n",
    "    n_estimators = trial.suggest_int(\"n_estimators\", 100, 1000, step=10)\n",
    "    criterion = trial.suggest_categorical(\"criterion\", [\"gini\", \"entropy\", \"log_loss\"])\n",
    "\n",
    "    stacking_model = StackingClassifier(\n",
    "        estimators=[\n",
    "            ('logistic', logistic_pipeline)\n",
    "        ],\n",
    "        final_estimator=RandomForestClassifier(\n",
    "            max_depth=max_depth,\n",
    "            criterion=criterion,\n",
    "            n_estimators=n_estimators,\n",
    "            n_jobs=-1,\n",
    "            random_state=42\n",
    "        ),\n",
    "        passthrough=True,\n",
    "        n_jobs=-1,\n",
    "        cv=5\n",
    "    )\n",
    "\n",
    "    stacking_model.fit(X_train, y_train)\n",
    "    pred_proba = stacking_model.predict_proba(X_test)[:, 1]\n",
    "    return roc_auc_score(y_test, pred_proba)\n",
    "\n",
    "study = optuna.create_study(direction=\"maximize\")\n",
    "study.optimize(objective, n_trials=25)\n",
    "\n",
    "print(\"Best parameters:\", study.best_params)\n",
    "print(\"Best ROC AUC score:\", study.best_value)\n",
    "\n",
    "# Visualization of the optimization\n",
    "optuna.visualization.plot_optimization_history(study)\n",
    "optuna.visualization.plot_param_importances(study)"
   ]
  },
  {
   "cell_type": "markdown",
   "metadata": {},
   "source": [
    "### Ensamble model"
   ]
  },
  {
   "cell_type": "code",
   "execution_count": 33,
   "metadata": {},
   "outputs": [
    {
     "name": "stdout",
     "output_type": "stream",
     "text": [
      "ROC AUC Score: 0.8888831939010476\n"
     ]
    }
   ],
   "source": [
    "logistic_pipeline = Pipeline([\n",
    "    ('polynomial', PolynomialFeatures(degree=2, include_bias=False)),\n",
    "    ('scaler', StandardScaler()),\n",
    "    ('logistic', LogisticRegression(max_iter=500, random_state=42, n_jobs=-1))\n",
    "])\n",
    "\n",
    "stacking_model = StackingClassifier(\n",
    "    estimators=[\n",
    "        ('logistic', logistic_pipeline)         \n",
    "    ],\n",
    "    final_estimator=RandomForestClassifier(\n",
    "        max_depth=13, \n",
    "        criterion='log_loss', \n",
    "        n_jobs=-1, \n",
    "        random_state=42, \n",
    "        n_estimators=500,\n",
    "    ),\n",
    "    passthrough=True,\n",
    "    n_jobs=-1,\n",
    "    cv=5\n",
    ")\n",
    "\n",
    "stacking_model.fit(X_train, y_train)\n",
    "\n",
    "pred_proba = stacking_model.predict_proba(X_test)[:, 1]\n",
    "\n",
    "roc_auc = roc_auc_score(y_test, pred_proba)\n",
    "print(f'ROC AUC Score: {roc_auc}')"
   ]
  },
  {
   "cell_type": "code",
   "execution_count": 34,
   "metadata": {},
   "outputs": [
    {
     "data": {
      "image/png": "[encoded data removed]",
      "text/plain": [
       "<Figure size 800x600 with 1 Axes>"
      ]
     },
     "metadata": {},
     "output_type": "display_data"
    }
   ],
   "source": [
    "fpr, tpr, thresholds = roc_curve(y_test, pred_proba)\n",
    "roc_auc = roc_auc_score(y_test, pred_proba)\n",
    "\n",
    "# Plotting the ROC curve\n",
    "plt.figure(figsize=(8, 6))\n",
    "plt.plot(fpr, tpr, color='blue', label=f'ROC Curve (AUC = {roc_auc:.2f})')\n",
    "plt.plot([0, 1], [0, 1], color='grey', linestyle='--')  # Diagonal line for random model\n",
    "plt.xlabel('False Positive Rate')\n",
    "plt.ylabel('True Positive Rate')\n",
    "plt.title('Receiver Operating Characteristic (ROC) Curve')\n",
    "plt.legend(loc='lower right')\n",
    "plt.grid()\n",
    "plt.show()"
   ]
  },
  {
   "cell_type": "markdown",
   "metadata": {},
   "source": [
    "### Feature importance"
   ]
  },
  {
   "cell_type": "code",
   "execution_count": 35,
   "metadata": {},
   "outputs": [
    {
     "data": {
      "image/png": "[encoded data removed]",
      "text/plain": [
       "<Figure size 1000x600 with 1 Axes>"
      ]
     },
     "metadata": {},
     "output_type": "display_data"
    }
   ],
   "source": [
    "from sklearn.inspection import permutation_importance\n",
    "\n",
    "# Assuming your stacking model is `stack_model`\n",
    "perm_importance = permutation_importance(stacking_model, X_test, y_test, n_repeats=10, random_state=0)\n",
    "sorted_idx = perm_importance.importances_mean.argsort()\n",
    "\n",
    "plt.figure(figsize=(10, 6))\n",
    "plt.barh(train.columns[sorted_idx], perm_importance.importances_mean[sorted_idx])\n",
    "plt.xlabel(\"Permutation Feature Importance\")\n",
    "plt.show()"
   ]
  },
  {
   "cell_type": "markdown",
   "metadata": {},
   "source": [
    "### Leaerning curve"
   ]
  },
  {
   "cell_type": "code",
   "execution_count": 37,
   "metadata": {},
   "outputs": [],
   "source": [
    "import numpy as np\n",
    "import matplotlib.pyplot as plt\n",
    "from sklearn.metrics import make_scorer, roc_auc_score\n",
    "from sklearn.model_selection import learning_curve\n",
    "\n",
    "scorer = make_scorer(roc_auc_score, needs_proba=True)\n",
    "\n",
    "train_sizes, train_scores, val_scores = learning_curve(\n",
    "    stacking_model, X, y, cv=5, scoring=scorer, n_jobs=-1, train_sizes=np.linspace(0.1, 1.0, 10), random_state=42\n",
    ")\n",
    "\n",
    "train_mean = np.mean(train_scores, axis=1)\n",
    "train_std = np.std(train_scores, axis=1)\n",
    "val_mean = np.mean(val_scores, axis=1)\n",
    "val_std = np.std(val_scores, axis=1)\n",
    "\n",
    "plt.figure(figsize=(10, 6))\n",
    "plt.plot(train_sizes, train_mean, 'o-', color=\"blue\", label=\"Training score\")\n",
    "plt.plot(train_sizes, val_mean, 'o-', color=\"orange\", label=\"Validation score\")\n",
    "\n",
    "plt.fill_between(train_sizes, train_mean - train_std, train_mean + train_std, color=\"blue\", alpha=0.2)\n",
    "plt.fill_between(train_sizes, val_mean - val_std, val_mean + val_std, color=\"orange\", alpha=0.2)\n",
    "\n",
    "plt.xlabel(\"Training Set Size\")\n",
    "plt.ylabel(\"ROC-AUC Score\")\n",
    "plt.title(\"Learning Curve\")\n",
    "plt.legend(loc=\"best\")\n",
    "plt.show()"
   ]
  },
  {
   "attachments": {
    "image.png": {
     "image/png": "[encoded data removed]"
    }
   },
   "cell_type": "markdown",
   "metadata": {},
   "source": [
    "![image.png](attachment:image.png)"
   ]
  },
  {
   "cell_type": "markdown",
   "metadata": {},
   "source": [
    "### Cross Validation"
   ]
  },
  {
   "cell_type": "code",
   "execution_count": 17,
   "metadata": {},
   "outputs": [
    {
     "name": "stdout",
     "output_type": "stream",
     "text": [
      "Cross-Validation ROC-AUC Scores: [0.8893947  0.89976914 0.88706508 0.89076369 0.89122545 0.89600522\n",
      " 0.88075576 0.88168691 0.87787454 0.88918379]\n",
      "Mean ROC-AUC Score CV: 0.8883724284591883\n"
     ]
    }
   ],
   "source": [
    "cv_scores = cross_val_score(stacking_model, X, y, cv = 10, scoring = 'roc_auc', n_jobs = -1)\n",
    "print(\"Cross-Validation ROC-AUC Scores:\", cv_scores)\n",
    "print(\"Mean ROC-AUC Score CV:\", cv_scores.mean())"
   ]
  },
  {
   "cell_type": "markdown",
   "metadata": {},
   "source": [
    "### StratifiedKFold CV"
   ]
  },
  {
   "cell_type": "code",
   "execution_count": 21,
   "metadata": {},
   "outputs": [
    {
     "name": "stdout",
     "output_type": "stream",
     "text": [
      "Fold ROC AUC: 0.8796\n",
      "Fold ROC AUC: 0.8895\n",
      "Fold ROC AUC: 0.8797\n",
      "Fold ROC AUC: 0.8969\n",
      "Fold ROC AUC: 0.8877\n",
      "\n",
      "Mean ROC AUC across 5 folds: 0.8867\n"
     ]
    }
   ],
   "source": [
    "from sklearn.model_selection import StratifiedKFold\n",
    "n_splits = 5\n",
    "skf = StratifiedKFold(n_splits=n_splits, shuffle=True, random_state=42)\n",
    "\n",
    "X_array = np.array(X)\n",
    "y_array = np.array(y)\n",
    "# Store fold ROC AUC scores\n",
    "roc_auc_scores = []\n",
    "\n",
    "# Loop over each fold\n",
    "for train_index, val_index in skf.split(X, y):\n",
    "    X_train, X_val = X_array[train_index], X_array[val_index]\n",
    "    y_train, y_val = y_array[train_index], y_array[val_index]\n",
    "    \n",
    "    # Fit stacking model on the train fold\n",
    "    stacking_model.fit(X_train, y_train)\n",
    "    \n",
    "    # Predict probabilities and calculate ROC AUC on the validation fold\n",
    "    y_pred_proba = stacking_model.predict_proba(X_val)[:, 1]\n",
    "    roc_auc = roc_auc_score(y_val, y_pred_proba)\n",
    "    roc_auc_scores.append(roc_auc)\n",
    "    \n",
    "    print(f'Fold ROC AUC: {roc_auc:.4f}')\n",
    "\n",
    "# Overall ROC AUC across folds\n",
    "mean_roc_auc = np.mean(roc_auc_scores)\n",
    "print(f'\\nMean ROC AUC across {n_splits} folds: {mean_roc_auc:.4f}')"
   ]
  },
  {
   "cell_type": "markdown",
   "metadata": {},
   "source": [
    "### Fit model"
   ]
  },
  {
   "cell_type": "code",
   "execution_count": 17,
   "metadata": {},
   "outputs": [
    {
     "name": "stdout",
     "output_type": "stream",
     "text": [
      "X, y ROC-AUC: 0.983241549112626\n"
     ]
    }
   ],
   "source": [
    "stacking_model.fit(X, y)\n",
    "pred = stacking_model.predict_proba(X_test)[:,1]\n",
    "ras = roc_auc_score(y_test, pred)\n",
    "print('X, y ROC-AUC:', ras)"
   ]
  },
  {
   "cell_type": "markdown",
   "metadata": {},
   "source": [
    "### To csv"
   ]
  },
  {
   "cell_type": "code",
   "execution_count": 18,
   "metadata": {},
   "outputs": [],
   "source": [
    "\n",
    "sub = pd.read_csv('sample_submission.csv')\n",
    "sub[\"smoking\"] = stacking_model.predict_proba(test)[:,1]\n",
    "sub.to_csv(\"submission_best.csv\", index = False)"
   ]
  }
 ],
 "metadata": {
  "kernelspec": {
   "display_name": "Python 3",
   "language": "python",
   "name": "python3"
  },
  "language_info": {
   "codemirror_mode": {
    "name": "ipython",
    "version": 3
   },
   "file_extension": ".py",
   "mimetype": "text/x-python",
   "name": "python",
   "nbconvert_exporter": "python",
   "pygments_lexer": "ipython3",
   "version": "3.13.0"
  }
 },
 "nbformat": 4,
 "nbformat_minor": 2
}
